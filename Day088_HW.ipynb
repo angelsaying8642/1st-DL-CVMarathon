{
 "cells": [
  {
   "cell_type": "markdown",
   "metadata": {},
   "source": [
    "## Work\n",
    "1. 請嘗試寫一個 callback 用來記錄各類別在訓練過程中，對驗證集的 True Positive 與 True Negative"
   ]
  },
  {
   "cell_type": "code",
   "execution_count": 1,
   "metadata": {},
   "outputs": [],
   "source": [
    "import os\n",
    "import keras\n",
    "\n",
    "# Disable GPU\n",
    "os.environ[\"CUDA_VISIBLE_DEVICES\"] = \"\""
   ]
  },
  {
   "cell_type": "code",
   "execution_count": 2,
   "metadata": {},
   "outputs": [],
   "source": [
    "train, test = keras.datasets.cifar10.load_data()"
   ]
  },
  {
   "cell_type": "code",
   "execution_count": 3,
   "metadata": {},
   "outputs": [],
   "source": [
    "## 資料前處理\n",
    "def preproc_x(x, flatten=True):\n",
    "    x = x / 255.\n",
    "    if flatten:\n",
    "        x = x.reshape((len(x), -1))\n",
    "    return x\n",
    "\n",
    "def preproc_y(y, num_classes=10):\n",
    "    if y.shape[-1] == 1:\n",
    "        y = keras.utils.to_categorical(y, num_classes)\n",
    "    return y    "
   ]
  },
  {
   "cell_type": "code",
   "execution_count": 4,
   "metadata": {},
   "outputs": [],
   "source": [
    "x_train, y_train = train\n",
    "x_test, y_test = test\n",
    "\n",
    "# Preproc the inputs\n",
    "x_train = preproc_x(x_train)\n",
    "x_test = preproc_x(x_test)\n",
    "\n",
    "# Preprc the outputs\n",
    "y_train = preproc_y(y_train)\n",
    "y_test = preproc_y(y_test)"
   ]
  },
  {
   "cell_type": "code",
   "execution_count": 5,
   "metadata": {},
   "outputs": [],
   "source": [
    "from keras.layers import BatchNormalization\n",
    "def build_mlp(input_shape, output_units=10, num_neurons=[256, 256, 256]):\n",
    "    \"\"\"Code Here\n",
    "    建立你的神經網路\n",
    "    \"\"\"\n",
    "    input_layer = keras.layers.Input(input_shape)\n",
    "    \n",
    "    for i, n_units in enumerate(num_neurons):\n",
    "        if i == 0:\n",
    "            x = keras.layers.Dense(units=n_units, \n",
    "                                   activation=\"relu\", \n",
    "                                   name=\"hidden_layer\"+str(i+1))(input_layer)\n",
    "            x = BatchNormalization()(x)\n",
    "        else:\n",
    "            x = keras.layers.Dense(units=n_units, \n",
    "                                   activation=\"relu\", \n",
    "                                   name=\"hidden_layer\"+str(i+1))(x)\n",
    "            x = BatchNormalization()(x)\n",
    "    \n",
    "    out = keras.layers.Dense(units=output_units, activation=\"softmax\", name=\"output\")(x)\n",
    "    \n",
    "    model = keras.models.Model(inputs=[input_layer], outputs=[out])\n",
    "    return model"
   ]
  },
  {
   "cell_type": "code",
   "execution_count": 6,
   "metadata": {},
   "outputs": [],
   "source": [
    "## 超參數設定\n",
    "LEARNING_RATE = 1e-3\n",
    "EPOCHS = 25\n",
    "BATCH_SIZE = 1024\n",
    "MOMENTUM = 0.95"
   ]
  },
  {
   "cell_type": "code",
   "execution_count": 29,
   "metadata": {},
   "outputs": [],
   "source": [
    "# 載入 Callbacks\n",
    "from keras.callbacks import Callback\n",
    "\n",
    "# Record_fp_tp\n",
    "class Record_tp_tn(Callback):\n",
    "    \"\"\"Code Here\n",
    "    撰寫一個紀錄 ture positive 與 true negative 數量的 callbacks    \n",
    "    \"\"\"\n",
    "    def __init__(self, val_data=(x_test, y_test)):\n",
    "        self.validation_data = val_data\n",
    "    \n",
    "    def on_train_begin(self, epoch, logs = {}):\n",
    "        logs = logs or {}\n",
    "        record_items = [\"val_tn\", \"val_tp\"]\n",
    "        for i in record_items:\n",
    "            try:\n",
    "                if i not in self.params['metrics']:\n",
    "                    self.params['metrics'].append(i)\n",
    "            except:\n",
    "                self.params['metrics']=i\n",
    "    \n",
    "    def on_epoch_end(self, epoch, logs = {}, thres=0.5):\n",
    "        logs = logs or {}\n",
    "        y_true = self.validation_data[1].argmax(axis = 1)\n",
    "        y_pred = self.model.predict(self.validation_data[0])\n",
    "        y_pred = (y_pred[:, 1] >= thres) * 1 # 門檻值 超過就為1 反之為0\n",
    "        ## 根據定義\n",
    "        val_tp = sum(y_true*y_pred)\n",
    "        val_tn = sum((y_true==0) & (y_pred==0))\n",
    "        logs['val_tp'] = val_tp\n",
    "        logs['val_tn'] = val_tn\n",
    "        \n",
    "rec_tptn = Record_tp_tn()"
   ]
  },
  {
   "cell_type": "code",
   "execution_count": 30,
   "metadata": {
    "scrolled": false
   },
   "outputs": [
    {
     "name": "stdout",
     "output_type": "stream",
     "text": [
      "Model: \"functional_9\"\n",
      "_________________________________________________________________\n",
      "Layer (type)                 Output Shape              Param #   \n",
      "=================================================================\n",
      "input_5 (InputLayer)         [(None, 3072)]            0         \n",
      "_________________________________________________________________\n",
      "hidden_layer1 (Dense)        (None, 256)               786688    \n",
      "_________________________________________________________________\n",
      "batch_normalization_12 (Batc (None, 256)               1024      \n",
      "_________________________________________________________________\n",
      "hidden_layer2 (Dense)        (None, 256)               65792     \n",
      "_________________________________________________________________\n",
      "batch_normalization_13 (Batc (None, 256)               1024      \n",
      "_________________________________________________________________\n",
      "hidden_layer3 (Dense)        (None, 256)               65792     \n",
      "_________________________________________________________________\n",
      "batch_normalization_14 (Batc (None, 256)               1024      \n",
      "_________________________________________________________________\n",
      "output (Dense)               (None, 10)                2570      \n",
      "=================================================================\n",
      "Total params: 923,914\n",
      "Trainable params: 922,378\n",
      "Non-trainable params: 1,536\n",
      "_________________________________________________________________\n",
      "Epoch 1/25\n",
      "49/49 [==============================] - 2s 39ms/step - loss: 2.2221 - accuracy: 0.2650 - val_loss: 2.1879 - val_accuracy: 0.1665\n",
      "Epoch 2/25\n",
      "49/49 [==============================] - 2s 31ms/step - loss: 1.7665 - accuracy: 0.3823 - val_loss: 2.0032 - val_accuracy: 0.2731\n",
      "Epoch 3/25\n",
      "49/49 [==============================] - 2s 31ms/step - loss: 1.6409 - accuracy: 0.4225 - val_loss: 1.8370 - val_accuracy: 0.3653\n",
      "Epoch 4/25\n",
      "49/49 [==============================] - 2s 32ms/step - loss: 1.5677 - accuracy: 0.4490 - val_loss: 1.7313 - val_accuracy: 0.4018\n",
      "Epoch 5/25\n",
      "49/49 [==============================] - 2s 31ms/step - loss: 1.5128 - accuracy: 0.4677 - val_loss: 1.6512 - val_accuracy: 0.4213\n",
      "Epoch 6/25\n",
      "49/49 [==============================] - 2s 33ms/step - loss: 1.4702 - accuracy: 0.4825 - val_loss: 1.5941 - val_accuracy: 0.4381\n",
      "Epoch 7/25\n",
      "49/49 [==============================] - 2s 31ms/step - loss: 1.4306 - accuracy: 0.4998 - val_loss: 1.5590 - val_accuracy: 0.4447\n",
      "Epoch 8/25\n",
      "49/49 [==============================] - 2s 33ms/step - loss: 1.3969 - accuracy: 0.5092 - val_loss: 1.5256 - val_accuracy: 0.4602\n",
      "Epoch 9/25\n",
      "49/49 [==============================] - 2s 32ms/step - loss: 1.3669 - accuracy: 0.5201 - val_loss: 1.5134 - val_accuracy: 0.4642\n",
      "Epoch 10/25\n",
      "49/49 [==============================] - 2s 33ms/step - loss: 1.3380 - accuracy: 0.5307 - val_loss: 1.5036 - val_accuracy: 0.4718\n",
      "Epoch 11/25\n",
      "49/49 [==============================] - 2s 31ms/step - loss: 1.3131 - accuracy: 0.5408 - val_loss: 1.4902 - val_accuracy: 0.4704\n",
      "Epoch 12/25\n",
      "49/49 [==============================] - 2s 32ms/step - loss: 1.2888 - accuracy: 0.5507 - val_loss: 1.4869 - val_accuracy: 0.4774\n",
      "Epoch 13/25\n",
      "49/49 [==============================] - 2s 32ms/step - loss: 1.2651 - accuracy: 0.5596 - val_loss: 1.4791 - val_accuracy: 0.4777\n",
      "Epoch 14/25\n",
      "49/49 [==============================] - 2s 31ms/step - loss: 1.2437 - accuracy: 0.5690 - val_loss: 1.4701 - val_accuracy: 0.4836\n",
      "Epoch 15/25\n",
      "49/49 [==============================] - 2s 33ms/step - loss: 1.2238 - accuracy: 0.5743 - val_loss: 1.4665 - val_accuracy: 0.4817\n",
      "Epoch 16/25\n",
      "49/49 [==============================] - 2s 32ms/step - loss: 1.2011 - accuracy: 0.5830 - val_loss: 1.4593 - val_accuracy: 0.4834\n",
      "Epoch 17/25\n",
      "49/49 [==============================] - 2s 33ms/step - loss: 1.1813 - accuracy: 0.5906 - val_loss: 1.4545 - val_accuracy: 0.4884\n",
      "Epoch 18/25\n",
      "49/49 [==============================] - 2s 31ms/step - loss: 1.1628 - accuracy: 0.5993 - val_loss: 1.4612 - val_accuracy: 0.4891\n",
      "Epoch 19/25\n",
      "49/49 [==============================] - 2s 33ms/step - loss: 1.1450 - accuracy: 0.6039 - val_loss: 1.4446 - val_accuracy: 0.4928\n",
      "Epoch 20/25\n",
      "49/49 [==============================] - 2s 32ms/step - loss: 1.1250 - accuracy: 0.6122 - val_loss: 1.4415 - val_accuracy: 0.4944\n",
      "Epoch 21/25\n",
      "49/49 [==============================] - 2s 33ms/step - loss: 1.1071 - accuracy: 0.6179 - val_loss: 1.4455 - val_accuracy: 0.4950\n",
      "Epoch 22/25\n",
      "49/49 [==============================] - 2s 32ms/step - loss: 1.0897 - accuracy: 0.6266 - val_loss: 1.4398 - val_accuracy: 0.4991\n",
      "Epoch 23/25\n",
      "49/49 [==============================] - 2s 33ms/step - loss: 1.0721 - accuracy: 0.6324 - val_loss: 1.4592 - val_accuracy: 0.4964\n",
      "Epoch 24/25\n",
      "49/49 [==============================] - 2s 32ms/step - loss: 1.0561 - accuracy: 0.6383 - val_loss: 1.4465 - val_accuracy: 0.4963\n",
      "Epoch 25/25\n",
      "49/49 [==============================] - 2s 31ms/step - loss: 1.0395 - accuracy: 0.6442 - val_loss: 1.4574 - val_accuracy: 0.4996\n"
     ]
    }
   ],
   "source": [
    "model = build_mlp(input_shape=x_train.shape[1:])\n",
    "model.summary()\n",
    "optimizer = keras.optimizers.SGD(lr=LEARNING_RATE, nesterov=True, momentum=MOMENTUM)\n",
    "model.compile(loss=\"categorical_crossentropy\", metrics=[\"accuracy\"], optimizer=optimizer)\n",
    "\n",
    "\"\"\"Code Here\n",
    "將 callbacks 放入模型訓練流程中\n",
    "\"\"\"\n",
    "model.fit(x_train, y_train, \n",
    "          epochs=EPOCHS, \n",
    "          batch_size=BATCH_SIZE, \n",
    "          validation_data=(x_test, y_test), \n",
    "          shuffle=True,\n",
    "          callbacks=[rec_tptn])\n",
    "\n",
    "# Collect results\n",
    "train_loss = model.history.history[\"loss\"]\n",
    "valid_loss = model.history.history[\"val_loss\"]\n",
    "train_acc = model.history.history[\"accuracy\"]\n",
    "valid_acc = model.history.history[\"val_accuracy\"]\n",
    "\n",
    "\"\"\"Code Here\n",
    "將 tp/tn 從訓練完的模型中取出\n",
    "\"\"\"\n",
    "valid_tp = model.history.history[\"val_tp\"]\n",
    "valid_tn = model.history.history[\"val_tn\"]"
   ]
  },
  {
   "cell_type": "code",
   "execution_count": 28,
   "metadata": {},
   "outputs": [
    {
     "data": {
      "text/plain": [
       "[1000,\n",
       " 1000,\n",
       " 1000,\n",
       " 1000,\n",
       " 998,\n",
       " 997,\n",
       " 998,\n",
       " 996,\n",
       " 989,\n",
       " 991,\n",
       " 987,\n",
       " 989,\n",
       " 988,\n",
       " 988,\n",
       " 992,\n",
       " 986,\n",
       " 989,\n",
       " 988,\n",
       " 980,\n",
       " 983,\n",
       " 987,\n",
       " 985,\n",
       " 985,\n",
       " 992,\n",
       " 994]"
      ]
     },
     "execution_count": 28,
     "metadata": {},
     "output_type": "execute_result"
    }
   ],
   "source": [
    "valid_tn"
   ]
  },
  {
   "cell_type": "code",
   "execution_count": 31,
   "metadata": {},
   "outputs": [
    {
     "data": {
      "image/png": "[encoded data removed]",
      "text/plain": [
       "<Figure size 432x288 with 1 Axes>"
      ]
     },
     "metadata": {
      "needs_background": "light"
     },
     "output_type": "display_data"
    },
    {
     "data": {
      "image/png": "[encoded data removed]",
      "text/plain": [
       "<Figure size 432x288 with 1 Axes>"
      ]
     },
     "metadata": {
      "needs_background": "light"
     },
     "output_type": "display_data"
    },
    {
     "data": {
      "image/png": "[encoded data removed]",
      "text/plain": [
       "<Figure size 432x288 with 1 Axes>"
      ]
     },
     "metadata": {
      "needs_background": "light"
     },
     "output_type": "display_data"
    }
   ],
   "source": [
    "import matplotlib.pyplot as plt\n",
    "%matplotlib inline\n",
    "\n",
    "plt.plot(range(len(train_loss)), train_loss, label=\"train loss\")\n",
    "plt.plot(range(len(valid_loss)), valid_loss, label=\"valid loss\")\n",
    "plt.legend()\n",
    "plt.title(\"Loss\")\n",
    "plt.show()\n",
    "\n",
    "plt.plot(range(len(train_acc)), train_acc, label=\"train accuracy\")\n",
    "plt.plot(range(len(valid_acc)), valid_acc, label=\"valid accuracy\")\n",
    "plt.legend()\n",
    "plt.title(\"Accuracy\")\n",
    "plt.show()\n",
    "\n",
    "plt.plot(range(len(valid_tp)), valid_tp, label=\"valid tp\", color=\"navy\")\n",
    "plt.plot(range(len(valid_tn)), valid_tn, label=\"valid tn\", color=\"red\")\n",
    "plt.legend()\n",
    "plt.title(\"True positives and True Negatives\")\n",
    "plt.show()\n"
   ]
  }
 ],
 "metadata": {
  "kernelspec": {
   "display_name": "Python 3",
   "language": "python",
   "name": "python3"
  },
  "language_info": {
   "codemirror_mode": {
    "name": "ipython",
    "version": 3
   },
   "file_extension": ".py",
   "mimetype": "text/x-python",
   "name": "python",
   "nbconvert_exporter": "python",
   "pygments_lexer": "ipython3",
   "version": "3.8.3"
  }
 },
 "nbformat": 4,
 "nbformat_minor": 2
}
