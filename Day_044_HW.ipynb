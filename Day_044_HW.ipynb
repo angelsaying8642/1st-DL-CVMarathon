{
 "cells": [
  {
   "cell_type": "markdown",
   "metadata": {},
   "source": [
    "## [作業重點]\n",
    "確保你了解隨機森林模型中每個超參數的意義，並觀察調整超參數對結果的影響"
   ]
  },
  {
   "cell_type": "markdown",
   "metadata": {},
   "source": [
    "## 作業\n",
    "\n",
    "1. 試著調整 RandomForestClassifier(...) 中的參數，並觀察是否會改變結果？\n",
    "2. 改用其他資料集 (boston, wine)，並與回歸模型與決策樹的結果進行比較"
   ]
  },
  {
   "cell_type": "code",
   "execution_count": 21,
   "metadata": {},
   "outputs": [],
   "source": [
    "from sklearn import datasets, metrics\n",
    "from sklearn.ensemble import RandomForestRegressor\n",
    "from sklearn.model_selection import train_test_split\n",
    "import pandas as pd"
   ]
  },
  {
   "cell_type": "code",
   "execution_count": 6,
   "metadata": {},
   "outputs": [],
   "source": [
    "# 讀取鳶尾花資料集\n",
    "boston = datasets.load_boston()\n",
    "\n",
    "# 切分訓練集/測試集\n",
    "x_train, x_test, y_train, y_test = train_test_split(boston.data, boston.target, test_size=0.2, random_state=10)\n",
    "\n",
    "# 建立模型 (使用 20 顆樹，每棵樹的最大深度為 4)\n",
    "clf = RandomForestRegressor(n_estimators=20, max_depth=4)\n",
    "\n",
    "# 訓練模型\n",
    "clf.fit(x_train, y_train)\n",
    "\n",
    "# 預測測試集\n",
    "y_pred = clf.predict(x_test)"
   ]
  },
  {
   "cell_type": "code",
   "execution_count": 11,
   "metadata": {
    "scrolled": true
   },
   "outputs": [
    {
     "name": "stdout",
     "output_type": "stream",
     "text": [
      "R^2:  0.8101986545335425\n"
     ]
    }
   ],
   "source": [
    "mse = metrics.mean_squared_error(y_test, y_pred)\n",
    "r_square = metrics.r2_score(y_test, y_pred)\n",
    "print(\"R^2: \", r_square)"
   ]
  },
  {
   "cell_type": "markdown",
   "metadata": {},
   "source": [
    "#### 調整參數 看能不能提高準確率"
   ]
  },
  {
   "cell_type": "code",
   "execution_count": 18,
   "metadata": {},
   "outputs": [],
   "source": [
    "# 建立模型 (使用 100 顆樹，每棵樹的最大深度為 4)\n",
    "clf1 = RandomForestRegressor(n_estimators=20, max_depth=4, min_samples_split = 10, min_samples_leaf = 5)\n",
    "clf2 = RandomForestRegressor(n_estimators=100, max_depth=4)\n",
    "clf3 = RandomForestRegressor(n_estimators=100, max_depth=4, min_samples_split = 10, min_samples_leaf = 5)\n",
    "# 訓練模型\n",
    "clf1.fit(x_train, y_train)\n",
    "clf2.fit(x_train, y_train)\n",
    "clf3.fit(x_train, y_train)\n",
    "\n",
    "# 預測測試集\n",
    "y_pred1 = clf1.predict(x_test)\n",
    "y_pred2 = clf2.predict(x_test)\n",
    "y_pred3 = clf3.predict(x_test)"
   ]
  },
  {
   "cell_type": "code",
   "execution_count": 19,
   "metadata": {},
   "outputs": [
    {
     "name": "stdout",
     "output_type": "stream",
     "text": [
      "Fisrt adj R^2:  0.7805905367305189\n",
      "Second adj R^2:  0.8274575937101761\n",
      "Third adj R^2:  0.782500023068792\n"
     ]
    }
   ],
   "source": [
    "mse = metrics.mean_squared_error(y_test, y_pred)\n",
    "r_square1 = metrics.r2_score(y_test, y_pred1)\n",
    "r_square2 = metrics.r2_score(y_test, y_pred2)\n",
    "r_square3 = metrics.r2_score(y_test, y_pred3)\n",
    "print(\"Fisrt adj R^2: \", r_square1)\n",
    "print(\"Second adj R^2: \", r_square2)\n",
    "print(\"Third adj R^2: \", r_square3)"
   ]
  },
  {
   "cell_type": "markdown",
   "metadata": {},
   "source": [
    "- 可以看到把樹的數目調高，可以增加準確率，但隨意調整各節點和最後的樣本數數目可能會使準確率下降\n",
    "- 下表是各訓練模型得的特徵重要性，可以看到RM LSTAT為該模型重要的特徵"
   ]
  },
  {
   "cell_type": "code",
   "execution_count": 25,
   "metadata": {},
   "outputs": [
    {
     "data": {
      "text/html": [
       "<div>\n",
       "<style scoped>\n",
       "    .dataframe tbody tr th:only-of-type {\n",
       "        vertical-align: middle;\n",
       "    }\n",
       "\n",
       "    .dataframe tbody tr th {\n",
       "        vertical-align: top;\n",
       "    }\n",
       "\n",
       "    .dataframe thead th {\n",
       "        text-align: right;\n",
       "    }\n",
       "</style>\n",
       "<table border=\"1\" class=\"dataframe\">\n",
       "  <thead>\n",
       "    <tr style=\"text-align: right;\">\n",
       "      <th></th>\n",
       "      <th>orginal</th>\n",
       "      <th>adj1</th>\n",
       "      <th>adj2</th>\n",
       "      <th>adj3</th>\n",
       "    </tr>\n",
       "  </thead>\n",
       "  <tbody>\n",
       "    <tr>\n",
       "      <th>CRIM</th>\n",
       "      <td>0.027334</td>\n",
       "      <td>0.024224</td>\n",
       "      <td>0.025500</td>\n",
       "      <td>0.021120</td>\n",
       "    </tr>\n",
       "    <tr>\n",
       "      <th>ZN</th>\n",
       "      <td>0.000000</td>\n",
       "      <td>0.000000</td>\n",
       "      <td>0.000032</td>\n",
       "      <td>0.000370</td>\n",
       "    </tr>\n",
       "    <tr>\n",
       "      <th>INDUS</th>\n",
       "      <td>0.000865</td>\n",
       "      <td>0.003042</td>\n",
       "      <td>0.002566</td>\n",
       "      <td>0.000946</td>\n",
       "    </tr>\n",
       "    <tr>\n",
       "      <th>CHAS</th>\n",
       "      <td>0.000000</td>\n",
       "      <td>0.000000</td>\n",
       "      <td>0.001406</td>\n",
       "      <td>0.000000</td>\n",
       "    </tr>\n",
       "    <tr>\n",
       "      <th>NOX</th>\n",
       "      <td>0.023241</td>\n",
       "      <td>0.015413</td>\n",
       "      <td>0.019337</td>\n",
       "      <td>0.016476</td>\n",
       "    </tr>\n",
       "    <tr>\n",
       "      <th>RM</th>\n",
       "      <td>0.317364</td>\n",
       "      <td>0.392418</td>\n",
       "      <td>0.349752</td>\n",
       "      <td>0.374287</td>\n",
       "    </tr>\n",
       "    <tr>\n",
       "      <th>AGE</th>\n",
       "      <td>0.003243</td>\n",
       "      <td>0.004266</td>\n",
       "      <td>0.004507</td>\n",
       "      <td>0.007154</td>\n",
       "    </tr>\n",
       "    <tr>\n",
       "      <th>DIS</th>\n",
       "      <td>0.049071</td>\n",
       "      <td>0.013361</td>\n",
       "      <td>0.054680</td>\n",
       "      <td>0.021781</td>\n",
       "    </tr>\n",
       "    <tr>\n",
       "      <th>RAD</th>\n",
       "      <td>0.001881</td>\n",
       "      <td>0.000679</td>\n",
       "      <td>0.002387</td>\n",
       "      <td>0.002210</td>\n",
       "    </tr>\n",
       "    <tr>\n",
       "      <th>TAX</th>\n",
       "      <td>0.008552</td>\n",
       "      <td>0.007067</td>\n",
       "      <td>0.006425</td>\n",
       "      <td>0.005036</td>\n",
       "    </tr>\n",
       "    <tr>\n",
       "      <th>PTRATIO</th>\n",
       "      <td>0.010638</td>\n",
       "      <td>0.004164</td>\n",
       "      <td>0.006334</td>\n",
       "      <td>0.008259</td>\n",
       "    </tr>\n",
       "    <tr>\n",
       "      <th>B</th>\n",
       "      <td>0.009730</td>\n",
       "      <td>0.006804</td>\n",
       "      <td>0.007491</td>\n",
       "      <td>0.004319</td>\n",
       "    </tr>\n",
       "    <tr>\n",
       "      <th>LSTAT</th>\n",
       "      <td>0.548080</td>\n",
       "      <td>0.528563</td>\n",
       "      <td>0.519581</td>\n",
       "      <td>0.538043</td>\n",
       "    </tr>\n",
       "  </tbody>\n",
       "</table>\n",
       "</div>"
      ],
      "text/plain": [
       "          orginal      adj1      adj2      adj3\n",
       "CRIM     0.027334  0.024224  0.025500  0.021120\n",
       "ZN       0.000000  0.000000  0.000032  0.000370\n",
       "INDUS    0.000865  0.003042  0.002566  0.000946\n",
       "CHAS     0.000000  0.000000  0.001406  0.000000\n",
       "NOX      0.023241  0.015413  0.019337  0.016476\n",
       "RM       0.317364  0.392418  0.349752  0.374287\n",
       "AGE      0.003243  0.004266  0.004507  0.007154\n",
       "DIS      0.049071  0.013361  0.054680  0.021781\n",
       "RAD      0.001881  0.000679  0.002387  0.002210\n",
       "TAX      0.008552  0.007067  0.006425  0.005036\n",
       "PTRATIO  0.010638  0.004164  0.006334  0.008259\n",
       "B        0.009730  0.006804  0.007491  0.004319\n",
       "LSTAT    0.548080  0.528563  0.519581  0.538043"
      ]
     },
     "execution_count": 25,
     "metadata": {},
     "output_type": "execute_result"
    }
   ],
   "source": [
    "## 特徵重要性\n",
    "adj = pd.DataFrame(clf.feature_importances_, index = boston.feature_names, columns = ['orginal'])\n",
    "adj1 = pd.DataFrame(clf1.feature_importances_, index = boston.feature_names, columns = ['adj1'])\n",
    "adj2 = pd.DataFrame(clf2.feature_importances_, index = boston.feature_names, columns = ['adj2'])\n",
    "adj3 = pd.DataFrame(clf3.feature_importances_, index = boston.feature_names, columns = ['adj3'])\n",
    "a = pd.concat([adj, adj1], axis = 1)\n",
    "a = pd.concat([a, adj2], axis = 1)\n",
    "a = pd.concat([a, adj3], axis = 1)\n",
    "a"
   ]
  }
 ],
 "metadata": {
  "kernelspec": {
   "display_name": "Python 3",
   "language": "python",
   "name": "python3"
  },
  "language_info": {
   "codemirror_mode": {
    "name": "ipython",
    "version": 3
   },
   "file_extension": ".py",
   "mimetype": "text/x-python",
   "name": "python",
   "nbconvert_exporter": "python",
   "pygments_lexer": "ipython3",
   "version": "3.6.4"
  }
 },
 "nbformat": 4,
 "nbformat_minor": 2
}
