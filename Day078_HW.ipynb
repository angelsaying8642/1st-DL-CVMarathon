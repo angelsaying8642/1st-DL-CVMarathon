{
 "cells": [
  {
   "cell_type": "markdown",
   "metadata": {},
   "source": [
    "## Work\n",
    "1. 請嘗試將 preproc_x 替換成以每筆資料的 min/max 進行標準化至 -1 ~ 1 間，再進行訓練\n",
    "2. 請嘗試將 mlp 疊更深 (e.g 5~10 層)，進行訓練後觀察 learning curve 的走勢\n",
    "3. (optional) 請改用 GPU 進行訓練 (如果你有 GPU 的話)，比較使用 CPU 與 GPU 的訓練速度"
   ]
  },
  {
   "cell_type": "code",
   "execution_count": 1,
   "metadata": {},
   "outputs": [
    {
     "name": "stdout",
     "output_type": "stream",
     "text": [
      "Thu Dec 03 15:34:10 2020       \n",
      "+-----------------------------------------------------------------------------+\n",
      "| NVIDIA-SMI 442.23       Driver Version: 442.23       CUDA Version: 10.2     |\n",
      "|-------------------------------+----------------------+----------------------+\n",
      "| GPU  Name            TCC/WDDM | Bus-Id        Disp.A | Volatile Uncorr. ECC |\n",
      "| Fan  Temp  Perf  Pwr:Usage/Cap|         Memory-Usage | GPU-Util  Compute M. |\n",
      "|===============================+======================+======================|\n",
      "|   0  GeForce GTX 1650   WDDM  | 00000000:01:00.0 Off |                  N/A |\n",
      "| N/A   45C    P8     6W /  N/A |    134MiB /  4096MiB |      0%      Default |\n",
      "+-------------------------------+----------------------+----------------------+\n",
      "                                                                               \n",
      "+-----------------------------------------------------------------------------+\n",
      "| Processes:                                                       GPU Memory |\n",
      "|  GPU       PID   Type   Process name                             Usage      |\n",
      "|=============================================================================|\n",
      "|  No running processes found                                                 |\n",
      "+-----------------------------------------------------------------------------+\n"
     ]
    }
   ],
   "source": [
    "## \n",
    "\"\"\"\n",
    "Your code here (optional)\n",
    "確認硬體資源\n",
    "\"\"\"\n",
    "!nvidia-smi\n"
   ]
  },
  {
   "cell_type": "code",
   "execution_count": 2,
   "metadata": {
    "scrolled": true
   },
   "outputs": [],
   "source": [
    "import os\n",
    "import keras\n",
    "\n",
    "# 請嘗試設定 GPU：os.environ\n"
   ]
  },
  {
   "cell_type": "code",
   "execution_count": 10,
   "metadata": {},
   "outputs": [
    {
     "data": {
      "text/plain": [
       "2"
      ]
     },
     "execution_count": 10,
     "metadata": {},
     "output_type": "execute_result"
    }
   ],
   "source": [
    "len(keras.datasets.cifar10.load_data())"
   ]
  },
  {
   "cell_type": "code",
   "execution_count": 13,
   "metadata": {},
   "outputs": [],
   "source": [
    "## 讀取資料\n",
    "train, test = keras.datasets.cifar10.load_data()"
   ]
  },
  {
   "cell_type": "code",
   "execution_count": 11,
   "metadata": {},
   "outputs": [],
   "source": [
    "## 資料前處理\n",
    "\"\"\"Code Here\n",
    "資料前處理\n",
    "\"\"\"\n",
    "def preproc_x(x, flatten=True):\n",
    "    x = 2*(((x - x.min()) / (x.max() - x.min()))-0.5) # 做 MinMax 化\n",
    "    if flatten:\n",
    "        x = x.reshape((len(x), -1))\n",
    "    return x\n",
    "\n",
    "def preproc_y(y, num_classes=10):\n",
    "    if y.shape[-1] == 1:\n",
    "        y = keras.utils.to_categorical(y, num_classes)\n",
    "    return y    "
   ]
  },
  {
   "cell_type": "code",
   "execution_count": 14,
   "metadata": {},
   "outputs": [],
   "source": [
    "x_train, y_train = train\n",
    "x_test, y_test = test\n",
    "\n",
    "# Preproc the inputs\n",
    "x_train = preproc_x(x_train)\n",
    "x_test = preproc_x(x_test)\n",
    "\n",
    "# Preprc the outputs\n",
    "y_train = preproc_y(y_train)\n",
    "y_test = preproc_y(y_test)"
   ]
  },
  {
   "cell_type": "code",
   "execution_count": 16,
   "metadata": {},
   "outputs": [
    {
     "data": {
      "text/plain": [
       "[(0, 512), (1, 256), (2, 256), (3, 128), (4, 128)]"
      ]
     },
     "execution_count": 16,
     "metadata": {},
     "output_type": "execute_result"
    }
   ],
   "source": [
    "## Show enumerate\n",
    "num_neurons=[512, 256, 256, 128, 128]\n",
    "list(enumerate(num_neurons))"
   ]
  },
  {
   "cell_type": "code",
   "execution_count": 17,
   "metadata": {},
   "outputs": [
    {
     "name": "stdout",
     "output_type": "stream",
     "text": [
      "Model: \"functional_1\"\n",
      "_________________________________________________________________\n",
      "Layer (type)                 Output Shape              Param #   \n",
      "=================================================================\n",
      "input_1 (InputLayer)         [(None, 3072)]            0         \n",
      "_________________________________________________________________\n",
      "hidden_layer1 (Dense)        (None, 512)               1573376   \n",
      "_________________________________________________________________\n",
      "hidden_layer2 (Dense)        (None, 256)               131328    \n",
      "_________________________________________________________________\n",
      "hidden_layer3 (Dense)        (None, 256)               65792     \n",
      "_________________________________________________________________\n",
      "hidden_layer4 (Dense)        (None, 128)               32896     \n",
      "_________________________________________________________________\n",
      "hidden_layer5 (Dense)        (None, 128)               16512     \n",
      "_________________________________________________________________\n",
      "output (Dense)               (None, 10)                1290      \n",
      "=================================================================\n",
      "Total params: 1,821,194\n",
      "Trainable params: 1,821,194\n",
      "Non-trainable params: 0\n",
      "_________________________________________________________________\n"
     ]
    }
   ],
   "source": [
    "\"\"\"Code Here\n",
    "建立你的神經網路\n",
    "\"\"\"\n",
    "def build_mlp(input_shape, output_units=10, num_neurons=[512, 256, 256, 128, 128]):\n",
    "    input_layer = keras.layers.Input(input_shape)\n",
    "    \n",
    "    for i, n_units in enumerate(num_neurons):\n",
    "        if i == 0:\n",
    "            x = keras.layers.Dense(units=n_units, activation=\"relu\", name=\"hidden_layer\"+str(i+1))(input_layer)\n",
    "        else:\n",
    "            x = keras.layers.Dense(units=n_units, activation=\"relu\", name=\"hidden_layer\"+str(i+1))(x)\n",
    "    \n",
    "    out = keras.layers.Dense(units=output_units, activation=\"softmax\", name=\"output\")(x)\n",
    "    \n",
    "    model = keras.models.Model(inputs=[input_layer], outputs=[out])\n",
    "    return model\n",
    "model = build_mlp(input_shape=x_train.shape[1:])\n",
    "model.summary()"
   ]
  },
  {
   "cell_type": "code",
   "execution_count": 18,
   "metadata": {},
   "outputs": [],
   "source": [
    "## 超參數設定\n",
    "LEARNING_RATE = 0.001\n",
    "EPOCHS = 100\n",
    "BATCH_SIZE = 256"
   ]
  },
  {
   "cell_type": "code",
   "execution_count": 19,
   "metadata": {},
   "outputs": [],
   "source": [
    "## 優化函數設定\n",
    "optimizer = keras.optimizers.Adam(lr=LEARNING_RATE)\n",
    "model.compile(loss=\"categorical_crossentropy\", metrics=[\"accuracy\"], optimizer=optimizer)"
   ]
  },
  {
   "cell_type": "code",
   "execution_count": 20,
   "metadata": {},
   "outputs": [
    {
     "name": "stdout",
     "output_type": "stream",
     "text": [
      "Epoch 1/100\n",
      "196/196 [==============================] - 2s 12ms/step - loss: 1.6946 - accuracy: 0.3981 - val_loss: 1.5448 - val_accuracy: 0.4491\n",
      "Epoch 2/100\n",
      "196/196 [==============================] - 2s 11ms/step - loss: 1.4647 - accuracy: 0.4800 - val_loss: 1.4539 - val_accuracy: 0.4893\n",
      "Epoch 3/100\n",
      "196/196 [==============================] - 2s 11ms/step - loss: 1.3400 - accuracy: 0.5266 - val_loss: 1.3947 - val_accuracy: 0.5085\n",
      "Epoch 4/100\n",
      "196/196 [==============================] - 2s 11ms/step - loss: 1.2425 - accuracy: 0.5589 - val_loss: 1.3818 - val_accuracy: 0.5133\n",
      "Epoch 5/100\n",
      "196/196 [==============================] - 2s 11ms/step - loss: 1.1568 - accuracy: 0.5894 - val_loss: 1.3690 - val_accuracy: 0.5277\n",
      "Epoch 6/100\n",
      "196/196 [==============================] - 2s 11ms/step - loss: 1.0730 - accuracy: 0.6198 - val_loss: 1.3730 - val_accuracy: 0.5297\n",
      "Epoch 7/100\n",
      "196/196 [==============================] - 2s 11ms/step - loss: 0.9992 - accuracy: 0.6424 - val_loss: 1.3918 - val_accuracy: 0.5402\n",
      "Epoch 8/100\n",
      "196/196 [==============================] - 2s 11ms/step - loss: 0.9272 - accuracy: 0.6689 - val_loss: 1.3963 - val_accuracy: 0.5382\n",
      "Epoch 9/100\n",
      "196/196 [==============================] - 2s 11ms/step - loss: 0.8534 - accuracy: 0.6982 - val_loss: 1.4427 - val_accuracy: 0.5343\n",
      "Epoch 10/100\n",
      "196/196 [==============================] - 2s 11ms/step - loss: 0.7796 - accuracy: 0.7220 - val_loss: 1.5240 - val_accuracy: 0.5348\n",
      "Epoch 11/100\n",
      "196/196 [==============================] - 2s 11ms/step - loss: 0.7215 - accuracy: 0.7395 - val_loss: 1.5437 - val_accuracy: 0.5362\n",
      "Epoch 12/100\n",
      "196/196 [==============================] - 2s 11ms/step - loss: 0.6482 - accuracy: 0.7668 - val_loss: 1.6273 - val_accuracy: 0.5322\n",
      "Epoch 13/100\n",
      "196/196 [==============================] - 2s 11ms/step - loss: 0.5968 - accuracy: 0.7890 - val_loss: 1.6887 - val_accuracy: 0.5278\n",
      "Epoch 14/100\n",
      "196/196 [==============================] - 2s 11ms/step - loss: 0.5385 - accuracy: 0.8060 - val_loss: 1.7546 - val_accuracy: 0.5363\n",
      "Epoch 15/100\n",
      "196/196 [==============================] - 2s 11ms/step - loss: 0.4859 - accuracy: 0.8259 - val_loss: 1.9452 - val_accuracy: 0.5261\n",
      "Epoch 16/100\n",
      "196/196 [==============================] - 2s 11ms/step - loss: 0.4431 - accuracy: 0.8429 - val_loss: 1.9741 - val_accuracy: 0.5274\n",
      "Epoch 17/100\n",
      "196/196 [==============================] - 2s 11ms/step - loss: 0.4033 - accuracy: 0.8570 - val_loss: 2.1292 - val_accuracy: 0.5274\n",
      "Epoch 18/100\n",
      "196/196 [==============================] - 2s 11ms/step - loss: 0.3801 - accuracy: 0.8656 - val_loss: 2.2033 - val_accuracy: 0.5317\n",
      "Epoch 19/100\n",
      "196/196 [==============================] - 2s 11ms/step - loss: 0.3530 - accuracy: 0.8755 - val_loss: 2.3434 - val_accuracy: 0.5244\n",
      "Epoch 20/100\n",
      "196/196 [==============================] - 2s 11ms/step - loss: 0.3111 - accuracy: 0.8891 - val_loss: 2.3997 - val_accuracy: 0.5248\n",
      "Epoch 21/100\n",
      "196/196 [==============================] - 2s 11ms/step - loss: 0.3002 - accuracy: 0.8950 - val_loss: 2.5666 - val_accuracy: 0.5268\n",
      "Epoch 22/100\n",
      "196/196 [==============================] - 2s 11ms/step - loss: 0.2752 - accuracy: 0.9042 - val_loss: 2.6704 - val_accuracy: 0.5264\n",
      "Epoch 23/100\n",
      "196/196 [==============================] - 2s 11ms/step - loss: 0.2603 - accuracy: 0.9089 - val_loss: 2.7446 - val_accuracy: 0.5279\n",
      "Epoch 24/100\n",
      "196/196 [==============================] - 2s 11ms/step - loss: 0.2580 - accuracy: 0.9104 - val_loss: 2.6754 - val_accuracy: 0.5288\n",
      "Epoch 25/100\n",
      "196/196 [==============================] - 2s 11ms/step - loss: 0.2142 - accuracy: 0.9251 - val_loss: 2.9390 - val_accuracy: 0.5186\n",
      "Epoch 26/100\n",
      "196/196 [==============================] - 2s 11ms/step - loss: 0.2296 - accuracy: 0.9198 - val_loss: 2.9641 - val_accuracy: 0.5258\n",
      "Epoch 27/100\n",
      "196/196 [==============================] - 2s 11ms/step - loss: 0.2065 - accuracy: 0.9286 - val_loss: 2.9660 - val_accuracy: 0.5275\n",
      "Epoch 28/100\n",
      "196/196 [==============================] - 2s 11ms/step - loss: 0.1966 - accuracy: 0.9318 - val_loss: 3.1162 - val_accuracy: 0.5240\n",
      "Epoch 29/100\n",
      "196/196 [==============================] - 2s 11ms/step - loss: 0.1985 - accuracy: 0.9314 - val_loss: 3.0545 - val_accuracy: 0.5252\n",
      "Epoch 30/100\n",
      "196/196 [==============================] - 2s 11ms/step - loss: 0.1866 - accuracy: 0.9355 - val_loss: 3.1682 - val_accuracy: 0.5223\n",
      "Epoch 31/100\n",
      "196/196 [==============================] - 2s 11ms/step - loss: 0.1714 - accuracy: 0.9421 - val_loss: 3.1270 - val_accuracy: 0.5280\n",
      "Epoch 32/100\n",
      "196/196 [==============================] - 2s 11ms/step - loss: 0.1832 - accuracy: 0.9359 - val_loss: 3.3566 - val_accuracy: 0.5290\n",
      "Epoch 33/100\n",
      "196/196 [==============================] - 2s 11ms/step - loss: 0.1657 - accuracy: 0.9437 - val_loss: 3.3398 - val_accuracy: 0.5318\n",
      "Epoch 34/100\n",
      "196/196 [==============================] - 2s 11ms/step - loss: 0.1748 - accuracy: 0.9398 - val_loss: 3.3850 - val_accuracy: 0.5271\n",
      "Epoch 35/100\n",
      "196/196 [==============================] - 2s 11ms/step - loss: 0.1594 - accuracy: 0.9456 - val_loss: 3.3946 - val_accuracy: 0.5208\n",
      "Epoch 36/100\n",
      "196/196 [==============================] - 2s 12ms/step - loss: 0.1597 - accuracy: 0.9452 - val_loss: 3.5230 - val_accuracy: 0.5282\n",
      "Epoch 37/100\n",
      "196/196 [==============================] - 2s 11ms/step - loss: 0.1275 - accuracy: 0.9566 - val_loss: 3.6472 - val_accuracy: 0.5268\n",
      "Epoch 38/100\n",
      "196/196 [==============================] - 2s 11ms/step - loss: 0.1431 - accuracy: 0.9515 - val_loss: 3.5868 - val_accuracy: 0.5276\n",
      "Epoch 39/100\n",
      "196/196 [==============================] - 2s 12ms/step - loss: 0.1568 - accuracy: 0.9476 - val_loss: 3.6395 - val_accuracy: 0.5278\n",
      "Epoch 40/100\n",
      "196/196 [==============================] - 2s 12ms/step - loss: 0.1438 - accuracy: 0.9519 - val_loss: 3.5756 - val_accuracy: 0.5224\n",
      "Epoch 41/100\n",
      "196/196 [==============================] - 2s 12ms/step - loss: 0.1291 - accuracy: 0.9572 - val_loss: 3.7253 - val_accuracy: 0.5304\n",
      "Epoch 42/100\n",
      "196/196 [==============================] - 2s 12ms/step - loss: 0.1183 - accuracy: 0.9614 - val_loss: 3.7134 - val_accuracy: 0.5271\n",
      "Epoch 43/100\n",
      "196/196 [==============================] - 2s 12ms/step - loss: 0.1374 - accuracy: 0.9544 - val_loss: 3.7058 - val_accuracy: 0.5277\n",
      "Epoch 44/100\n",
      "196/196 [==============================] - 2s 12ms/step - loss: 0.1206 - accuracy: 0.9591 - val_loss: 3.9915 - val_accuracy: 0.5236\n",
      "Epoch 45/100\n",
      "196/196 [==============================] - 2s 12ms/step - loss: 0.1301 - accuracy: 0.9574 - val_loss: 3.8200 - val_accuracy: 0.5228\n",
      "Epoch 46/100\n",
      "196/196 [==============================] - 2s 12ms/step - loss: 0.1343 - accuracy: 0.9559 - val_loss: 3.7543 - val_accuracy: 0.5239\n",
      "Epoch 47/100\n",
      "196/196 [==============================] - 2s 12ms/step - loss: 0.1095 - accuracy: 0.9631 - val_loss: 3.8370 - val_accuracy: 0.5260\n",
      "Epoch 48/100\n",
      "196/196 [==============================] - 2s 12ms/step - loss: 0.1206 - accuracy: 0.9605 - val_loss: 3.8061 - val_accuracy: 0.5291\n",
      "Epoch 49/100\n",
      "196/196 [==============================] - 2s 12ms/step - loss: 0.1176 - accuracy: 0.9626 - val_loss: 4.0235 - val_accuracy: 0.5215\n",
      "Epoch 50/100\n",
      "196/196 [==============================] - 2s 12ms/step - loss: 0.1004 - accuracy: 0.9661 - val_loss: 4.2643 - val_accuracy: 0.5219\n",
      "Epoch 51/100\n",
      "196/196 [==============================] - 2s 12ms/step - loss: 0.1185 - accuracy: 0.9611 - val_loss: 3.8424 - val_accuracy: 0.5273\n",
      "Epoch 52/100\n",
      "196/196 [==============================] - 2s 12ms/step - loss: 0.1080 - accuracy: 0.9654 - val_loss: 3.8002 - val_accuracy: 0.5244\n",
      "Epoch 53/100\n",
      "196/196 [==============================] - 2s 12ms/step - loss: 0.0957 - accuracy: 0.9670 - val_loss: 4.0550 - val_accuracy: 0.5243\n",
      "Epoch 54/100\n",
      "196/196 [==============================] - 2s 12ms/step - loss: 0.1126 - accuracy: 0.9630 - val_loss: 3.9195 - val_accuracy: 0.5299\n",
      "Epoch 55/100\n",
      "196/196 [==============================] - 2s 12ms/step - loss: 0.0993 - accuracy: 0.9675 - val_loss: 4.0451 - val_accuracy: 0.5296\n",
      "Epoch 56/100\n",
      "196/196 [==============================] - 2s 12ms/step - loss: 0.1281 - accuracy: 0.9581 - val_loss: 3.9739 - val_accuracy: 0.5282\n",
      "Epoch 57/100\n"
     ]
    },
    {
     "name": "stdout",
     "output_type": "stream",
     "text": [
      "196/196 [==============================] - 2s 12ms/step - loss: 0.1045 - accuracy: 0.9658 - val_loss: 4.0470 - val_accuracy: 0.5289\n",
      "Epoch 58/100\n",
      "196/196 [==============================] - 2s 12ms/step - loss: 0.0812 - accuracy: 0.9737 - val_loss: 4.1543 - val_accuracy: 0.5335\n",
      "Epoch 59/100\n",
      "196/196 [==============================] - 2s 12ms/step - loss: 0.0949 - accuracy: 0.9694 - val_loss: 3.9388 - val_accuracy: 0.5260\n",
      "Epoch 60/100\n",
      "196/196 [==============================] - 2s 12ms/step - loss: 0.0998 - accuracy: 0.9672 - val_loss: 4.0539 - val_accuracy: 0.5315\n",
      "Epoch 61/100\n",
      "196/196 [==============================] - 2s 12ms/step - loss: 0.0959 - accuracy: 0.9687 - val_loss: 3.9526 - val_accuracy: 0.5323\n",
      "Epoch 62/100\n",
      "196/196 [==============================] - 2s 12ms/step - loss: 0.1034 - accuracy: 0.9673 - val_loss: 3.9673 - val_accuracy: 0.5297\n",
      "Epoch 63/100\n",
      "196/196 [==============================] - 2s 12ms/step - loss: 0.0993 - accuracy: 0.9671 - val_loss: 4.0323 - val_accuracy: 0.5217\n",
      "Epoch 64/100\n",
      "196/196 [==============================] - 2s 12ms/step - loss: 0.0837 - accuracy: 0.9721 - val_loss: 4.0957 - val_accuracy: 0.5253\n",
      "Epoch 65/100\n",
      "196/196 [==============================] - 2s 12ms/step - loss: 0.0871 - accuracy: 0.9716 - val_loss: 4.3741 - val_accuracy: 0.5311\n",
      "Epoch 66/100\n",
      "196/196 [==============================] - 2s 12ms/step - loss: 0.1008 - accuracy: 0.9674 - val_loss: 4.2361 - val_accuracy: 0.5209\n",
      "Epoch 67/100\n",
      "196/196 [==============================] - 2s 12ms/step - loss: 0.1048 - accuracy: 0.9667 - val_loss: 4.0120 - val_accuracy: 0.5254\n",
      "Epoch 68/100\n",
      "196/196 [==============================] - 2s 12ms/step - loss: 0.0884 - accuracy: 0.9709 - val_loss: 4.1627 - val_accuracy: 0.5272\n",
      "Epoch 69/100\n",
      "196/196 [==============================] - 2s 12ms/step - loss: 0.0867 - accuracy: 0.9715 - val_loss: 4.1966 - val_accuracy: 0.5267\n",
      "Epoch 70/100\n",
      "196/196 [==============================] - 2s 12ms/step - loss: 0.0739 - accuracy: 0.9758 - val_loss: 4.4917 - val_accuracy: 0.5306\n",
      "Epoch 71/100\n",
      "196/196 [==============================] - 2s 12ms/step - loss: 0.1050 - accuracy: 0.9653 - val_loss: 3.7712 - val_accuracy: 0.5289\n",
      "Epoch 72/100\n",
      "196/196 [==============================] - 2s 12ms/step - loss: 0.0677 - accuracy: 0.9780 - val_loss: 4.3344 - val_accuracy: 0.5269\n",
      "Epoch 73/100\n",
      "196/196 [==============================] - 2s 12ms/step - loss: 0.0798 - accuracy: 0.9743 - val_loss: 4.3400 - val_accuracy: 0.5236\n",
      "Epoch 74/100\n",
      "196/196 [==============================] - 2s 12ms/step - loss: 0.0879 - accuracy: 0.9722 - val_loss: 4.1889 - val_accuracy: 0.5263\n",
      "Epoch 75/100\n",
      "196/196 [==============================] - 2s 12ms/step - loss: 0.0789 - accuracy: 0.9746 - val_loss: 4.4211 - val_accuracy: 0.5311\n",
      "Epoch 76/100\n",
      "196/196 [==============================] - 2s 12ms/step - loss: 0.0820 - accuracy: 0.9732 - val_loss: 4.1942 - val_accuracy: 0.5221\n",
      "Epoch 77/100\n",
      "196/196 [==============================] - 2s 12ms/step - loss: 0.0991 - accuracy: 0.9680 - val_loss: 4.2729 - val_accuracy: 0.5305\n",
      "Epoch 78/100\n",
      "196/196 [==============================] - 2s 12ms/step - loss: 0.0762 - accuracy: 0.9754 - val_loss: 4.2206 - val_accuracy: 0.5259\n",
      "Epoch 79/100\n",
      "196/196 [==============================] - 2s 12ms/step - loss: 0.0646 - accuracy: 0.9793 - val_loss: 4.4854 - val_accuracy: 0.5224\n",
      "Epoch 80/100\n",
      "196/196 [==============================] - 2s 12ms/step - loss: 0.0810 - accuracy: 0.9731 - val_loss: 4.2778 - val_accuracy: 0.5253\n",
      "Epoch 81/100\n",
      "196/196 [==============================] - 2s 12ms/step - loss: 0.0951 - accuracy: 0.9701 - val_loss: 4.2514 - val_accuracy: 0.5240\n",
      "Epoch 82/100\n",
      "196/196 [==============================] - 2s 12ms/step - loss: 0.0724 - accuracy: 0.9766 - val_loss: 4.5034 - val_accuracy: 0.5282\n",
      "Epoch 83/100\n",
      "196/196 [==============================] - 2s 12ms/step - loss: 0.0692 - accuracy: 0.9778 - val_loss: 4.3485 - val_accuracy: 0.5274\n",
      "Epoch 84/100\n",
      "196/196 [==============================] - 2s 12ms/step - loss: 0.0742 - accuracy: 0.9772 - val_loss: 4.3932 - val_accuracy: 0.5236\n",
      "Epoch 85/100\n",
      "196/196 [==============================] - 2s 12ms/step - loss: 0.0723 - accuracy: 0.9762 - val_loss: 4.3676 - val_accuracy: 0.5224\n",
      "Epoch 86/100\n",
      "196/196 [==============================] - 2s 12ms/step - loss: 0.0791 - accuracy: 0.9751 - val_loss: 4.4094 - val_accuracy: 0.5296\n",
      "Epoch 87/100\n",
      "196/196 [==============================] - 2s 12ms/step - loss: 0.0660 - accuracy: 0.9793 - val_loss: 4.4856 - val_accuracy: 0.5254\n",
      "Epoch 88/100\n",
      "196/196 [==============================] - 2s 12ms/step - loss: 0.0767 - accuracy: 0.9755 - val_loss: 4.2376 - val_accuracy: 0.5301\n",
      "Epoch 89/100\n",
      "196/196 [==============================] - 2s 12ms/step - loss: 0.0630 - accuracy: 0.9788 - val_loss: 4.3308 - val_accuracy: 0.5341\n",
      "Epoch 90/100\n",
      "196/196 [==============================] - 2s 12ms/step - loss: 0.0814 - accuracy: 0.9742 - val_loss: 4.3504 - val_accuracy: 0.5265\n",
      "Epoch 91/100\n",
      "196/196 [==============================] - 2s 12ms/step - loss: 0.0622 - accuracy: 0.9799 - val_loss: 4.3675 - val_accuracy: 0.5288\n",
      "Epoch 92/100\n",
      "196/196 [==============================] - 2s 12ms/step - loss: 0.0662 - accuracy: 0.9789 - val_loss: 4.3930 - val_accuracy: 0.5293\n",
      "Epoch 93/100\n",
      "196/196 [==============================] - 2s 12ms/step - loss: 0.0744 - accuracy: 0.9772 - val_loss: 4.3602 - val_accuracy: 0.5217\n",
      "Epoch 94/100\n",
      "196/196 [==============================] - 2s 12ms/step - loss: 0.0664 - accuracy: 0.9793 - val_loss: 4.1870 - val_accuracy: 0.5196\n",
      "Epoch 95/100\n",
      "196/196 [==============================] - 2s 12ms/step - loss: 0.0801 - accuracy: 0.9754 - val_loss: 4.1738 - val_accuracy: 0.5242\n",
      "Epoch 96/100\n",
      "196/196 [==============================] - 2s 12ms/step - loss: 0.0689 - accuracy: 0.9775 - val_loss: 4.4097 - val_accuracy: 0.5221\n",
      "Epoch 97/100\n",
      "196/196 [==============================] - 2s 12ms/step - loss: 0.0772 - accuracy: 0.9753 - val_loss: 4.2551 - val_accuracy: 0.5278\n",
      "Epoch 98/100\n",
      "196/196 [==============================] - 2s 12ms/step - loss: 0.0523 - accuracy: 0.9835 - val_loss: 4.5162 - val_accuracy: 0.5333\n",
      "Epoch 99/100\n",
      "196/196 [==============================] - 2s 12ms/step - loss: 0.0520 - accuracy: 0.9839 - val_loss: 4.7184 - val_accuracy: 0.5292\n",
      "Epoch 100/100\n",
      "196/196 [==============================] - 2s 12ms/step - loss: 0.0699 - accuracy: 0.9781 - val_loss: 4.4131 - val_accuracy: 0.5244\n"
     ]
    },
    {
     "data": {
      "text/plain": [
       "<tensorflow.python.keras.callbacks.History at 0x21959c28220>"
      ]
     },
     "execution_count": 20,
     "metadata": {},
     "output_type": "execute_result"
    }
   ],
   "source": [
    "## 訓練模型\n",
    "model.fit(x_train, y_train, \n",
    "          epochs=EPOCHS, \n",
    "          batch_size=BATCH_SIZE, \n",
    "          validation_data=(x_test, y_test), \n",
    "          shuffle=True)"
   ]
  },
  {
   "cell_type": "code",
   "execution_count": 21,
   "metadata": {},
   "outputs": [
    {
     "data": {
      "image/png": "[encoded data removed]",
      "text/plain": [
       "<Figure size 432x288 with 1 Axes>"
      ]
     },
     "metadata": {
      "needs_background": "light"
     },
     "output_type": "display_data"
    },
    {
     "data": {
      "image/png": "[encoded data removed]",
      "text/plain": [
       "<Figure size 432x288 with 1 Axes>"
      ]
     },
     "metadata": {
      "needs_background": "light"
     },
     "output_type": "display_data"
    }
   ],
   "source": [
    "## 視覺化訓練模型的結果\n",
    "import matplotlib.pyplot as plt\n",
    "\n",
    "\n",
    "train_loss = model.history.history[\"loss\"]\n",
    "valid_loss = model.history.history[\"val_loss\"]\n",
    "\n",
    "train_acc = model.history.history[\"accuracy\"]\n",
    "valid_acc = model.history.history[\"val_accuracy\"]\n",
    "\n",
    "plt.plot(range(len(train_loss)), train_loss, label=\"train loss\")\n",
    "plt.plot(range(len(valid_loss)), valid_loss, label=\"valid loss\")\n",
    "plt.legend()\n",
    "plt.title(\"Loss\")\n",
    "plt.show()\n",
    "\n",
    "plt.plot(range(len(train_acc)), train_acc, label=\"train accuracy\")\n",
    "plt.plot(range(len(valid_acc)), valid_acc, label=\"valid accuracy\")\n",
    "plt.legend()\n",
    "plt.title(\"Accuracy\")\n",
    "plt.show()"
   ]
  }
 ],
 "metadata": {
  "kernelspec": {
   "display_name": "Python 3",
   "language": "python",
   "name": "python3"
  },
  "language_info": {
   "codemirror_mode": {
    "name": "ipython",
    "version": 3
   },
   "file_extension": ".py",
   "mimetype": "text/x-python",
   "name": "python",
   "nbconvert_exporter": "python",
   "pygments_lexer": "ipython3",
   "version": "3.8.3"
  }
 },
 "nbformat": 4,
 "nbformat_minor": 2
}
