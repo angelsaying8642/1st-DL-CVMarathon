{
 "cells": [
  {
   "cell_type": "markdown",
   "metadata": {},
   "source": [
    "# 作業\n",
    "* 試著想想看, 非監督學習是否有可能使用評價函數 (Metric) 來鑑別好壞呢?  \n",
    "(Hint : 可以分為 \"有目標值\" 與 \"無目標值\" 兩個方向思考)"
   ]
  },
  {
   "cell_type": "code",
   "execution_count": null,
   "metadata": {
    "collapsed": true
   },
   "outputs": [],
   "source": [
    "'''\n",
    "監督式學習是建立在資料有標記的情況下，來預測新資料的正確率，\n",
    "如同回歸的指標有：MSE.MAE.R_squared，\n",
    "而分類的評估函數有：混淆矩陣和ROC曲線，而非監督式學習是在\n",
    "資料沒有標記下去如何處理資料，我認為例如：\n",
    "客戶分群可以用圖去觀察資料是否可分\n",
    "降維後的可解釋變異是否有在預期中\n",
    "所以非監督式學習應該可以用評價函數去鑑別\n",
    "'''"
   ]
  }
 ],
 "metadata": {
  "kernelspec": {
   "display_name": "Python 3",
   "language": "python",
   "name": "python3"
  },
  "language_info": {
   "codemirror_mode": {
    "name": "ipython",
    "version": 3
   },
   "file_extension": ".py",
   "mimetype": "text/x-python",
   "name": "python",
   "nbconvert_exporter": "python",
   "pygments_lexer": "ipython3",
   "version": "3.6.4"
  }
 },
 "nbformat": 4,
 "nbformat_minor": 1
}
