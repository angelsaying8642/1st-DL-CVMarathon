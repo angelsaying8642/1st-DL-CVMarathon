{
 "cells": [
  {
   "cell_type": "code",
   "execution_count": 1,
   "metadata": {},
   "outputs": [],
   "source": [
    "import keras\n",
    "# 資料集\n",
    "from keras.datasets import cifar10 \n",
    "# 影像處理\n",
    "from keras.preprocessing.image import ImageDataGenerator\n",
    "# 序列模型\n",
    "from keras.models import Sequential\n",
    "# 隱藏層 防止過擬化dropout 啟動函數 全連接層\n",
    "from keras.layers import Dense, Dropout, Activation, Flatten\n",
    "# 要做卷積層和池化層\n",
    "from keras.layers import Conv2D, MaxPooling2D\n",
    "# 優化函數\n",
    "from keras.optimizers import RMSprop, Adam\n",
    "# 處理路徑用\n",
    "import os"
   ]
  },
  {
   "cell_type": "code",
   "execution_count": 2,
   "metadata": {},
   "outputs": [
    {
     "name": "stdout",
     "output_type": "stream",
     "text": [
      "x_train shape: (50000, 32, 32, 3)\n",
      "50000 train samples\n",
      "10000 test samples\n"
     ]
    }
   ],
   "source": [
    "batch_size = 128 # batch 的大小，如果出現 OOM error，請降低這個值\n",
    "num_classes = 10 # 類別的數量，Cifar 10 共有 10 個類別\n",
    "epochs = 10 # 訓練的 epochs 數量\n",
    "\n",
    "# 讀取資料並檢視\n",
    "(x_train, y_train), (x_test, y_test) = cifar10.load_data()\n",
    "print('x_train shape:', x_train.shape)\n",
    "print(x_train.shape[0], 'train samples')\n",
    "print(x_test.shape[0], 'test samples')\n",
    "\n",
    "# 對 label 進行 one-hot encoding (y_trian 原本是純數字)\n",
    "y_train = keras.utils.to_categorical(y_train, num_classes)\n",
    "y_test = keras.utils.to_categorical(y_test, num_classes)"
   ]
  },
  {
   "cell_type": "markdown",
   "metadata": {},
   "source": [
    "## 首先我們使用一般的 DNN (MLP) 來訓練\n",
    "由於 DNN 只能輸入一維的資料，我們要先將影像進行攤平，若 (50000, 32, 32, 3) 的影像，攤平後會變成 (50000, 32 * 32 * 3) = (50000, 3072)"
   ]
  },
  {
   "cell_type": "code",
   "execution_count": 3,
   "metadata": {},
   "outputs": [
    {
     "name": "stdout",
     "output_type": "stream",
     "text": [
      "50000 train samples\n",
      "10000 test samples\n"
     ]
    }
   ],
   "source": [
    "# 將資料攤平成一維資料\n",
    "x_train = x_train.reshape(50000, 3072) \n",
    "x_test = x_test.reshape(10000, 3072)\n",
    "\n",
    "# 將資料變為 float32 並標準化\n",
    "x_train = x_train.astype('float32')\n",
    "x_test = x_test.astype('float32')\n",
    "x_train /= 255\n",
    "x_test /= 255\n",
    "print(x_train.shape[0], 'train samples')\n",
    "print(x_test.shape[0], 'test samples')"
   ]
  },
  {
   "cell_type": "code",
   "execution_count": 6,
   "metadata": {},
   "outputs": [
    {
     "data": {
      "text/plain": [
       "[1.6240334510803223, 0.4235199987888336]"
      ]
     },
     "execution_count": 6,
     "metadata": {},
     "output_type": "execute_result"
    }
   ],
   "source": [
    "model.evaluate(x_train, y_train, verbose=0)"
   ]
  },
  {
   "cell_type": "code",
   "execution_count": 4,
   "metadata": {},
   "outputs": [
    {
     "name": "stdout",
     "output_type": "stream",
     "text": [
      "Model: \"sequential\"\n",
      "_________________________________________________________________\n",
      "Layer (type)                 Output Shape              Param #   \n",
      "=================================================================\n",
      "dense (Dense)                (None, 512)               1573376   \n",
      "_________________________________________________________________\n",
      "dropout (Dropout)            (None, 512)               0         \n",
      "_________________________________________________________________\n",
      "dense_1 (Dense)              (None, 512)               262656    \n",
      "_________________________________________________________________\n",
      "dropout_1 (Dropout)          (None, 512)               0         \n",
      "_________________________________________________________________\n",
      "dense_2 (Dense)              (None, 10)                5130      \n",
      "=================================================================\n",
      "Total params: 1,841,162\n",
      "Trainable params: 1,841,162\n",
      "Non-trainable params: 0\n",
      "_________________________________________________________________\n",
      "Epoch 1/10\n",
      "391/391 [==============================] - 7s 18ms/step - loss: 2.1354 - accuracy: 0.2479 - val_loss: 1.8951 - val_accuracy: 0.3058\n",
      "Epoch 2/10\n",
      "391/391 [==============================] - 7s 18ms/step - loss: 1.8577 - accuracy: 0.3296 - val_loss: 1.8841 - val_accuracy: 0.3053\n",
      "Epoch 3/10\n",
      "391/391 [==============================] - 7s 19ms/step - loss: 1.7828 - accuracy: 0.3569 - val_loss: 1.7184 - val_accuracy: 0.3746\n",
      "Epoch 4/10\n",
      "391/391 [==============================] - 7s 18ms/step - loss: 1.7324 - accuracy: 0.3763 - val_loss: 1.6579 - val_accuracy: 0.4231\n",
      "Epoch 5/10\n",
      "391/391 [==============================] - 8s 20ms/step - loss: 1.6992 - accuracy: 0.3906 - val_loss: 1.6618 - val_accuracy: 0.4013\n",
      "Epoch 6/10\n",
      "391/391 [==============================] - 7s 19ms/step - loss: 1.6658 - accuracy: 0.4036 - val_loss: 1.6154 - val_accuracy: 0.4352\n",
      "Epoch 7/10\n",
      "391/391 [==============================] - 7s 19ms/step - loss: 1.6445 - accuracy: 0.4112 - val_loss: 1.8438 - val_accuracy: 0.3450\n",
      "Epoch 8/10\n",
      "391/391 [==============================] - 7s 19ms/step - loss: 1.6245 - accuracy: 0.4185 - val_loss: 1.5876 - val_accuracy: 0.4314\n",
      "Epoch 9/10\n",
      "391/391 [==============================] - 7s 18ms/step - loss: 1.6080 - accuracy: 0.4253 - val_loss: 1.5639 - val_accuracy: 0.4533\n",
      "Epoch 10/10\n",
      "391/391 [==============================] - 7s 19ms/step - loss: 1.5905 - accuracy: 0.4293 - val_loss: 1.6602 - val_accuracy: 0.4148\n",
      "Test loss: 1.660231590270996\n",
      "Test accuracy: 0.4147999882698059\n"
     ]
    }
   ],
   "source": [
    "# 建立模型\n",
    "model = Sequential()\n",
    "# 建立輸入層，啟動函數為'relu'\n",
    "## Relu 通常用於隱藏層\n",
    "model.add(Dense(512, activation='relu', input_shape=(3072,)))\n",
    "# 缺失比例 0.2 以防止訓練過擬化\n",
    "model.add(Dropout(0.2))\n",
    "# 增加隱藏層 512 個神經元，啟動函數為'relu'\n",
    "model.add(Dense(512, activation='relu'))\n",
    "# 缺失比例 0.2 以防止訓練過擬化\n",
    "model.add(Dropout(0.2))\n",
    "# 建立輸出層，共有10種圖片，所以輸出為10，啟動函數為 softmax\n",
    "model.add(Dense(num_classes, activation='softmax'))\n",
    "\n",
    "model.summary()\n",
    "# 開始編譯模型 優化函數用 RMSprop\n",
    "model.compile(loss='categorical_crossentropy',\n",
    "              optimizer=RMSprop(),\n",
    "              metrics=['accuracy'])\n",
    "'''\n",
    "fit()用於訓練具有給定輸入的模型。\n",
    "\n",
    "predict()用於實際預測。它爲輸入樣本生成輸出預測。\n",
    "\n",
    "evaluate()用於評估已經過訓練的模型。返回模型的損失值&指標值。\n",
    "'''\n",
    "history = model.fit(x_train, y_train,\n",
    "                    batch_size=batch_size,\n",
    "                    epochs=epochs,\n",
    "                    verbose=1,\n",
    "                    validation_data=(x_test, y_test))\n",
    "score = model.evaluate(x_test, y_test, verbose=0)\n",
    "print('Test loss:', score[0])\n",
    "print('Test accuracy:', score[1])"
   ]
  },
  {
   "cell_type": "markdown",
   "metadata": {},
   "source": [
    "## 接下來我們使用 CNN 來訓練神經網路\n",
    "CNN 的原理非常適合處理影像類的資料，就讓我們來看看，同樣的訓練條件，CNN 是否顯著優於 DNN 呢?"
   ]
  },
  {
   "cell_type": "code",
   "execution_count": 7,
   "metadata": {},
   "outputs": [
    {
     "name": "stdout",
     "output_type": "stream",
     "text": [
      "x_train shape: (50000, 32, 32, 3)\n",
      "50000 train samples\n",
      "10000 test samples\n"
     ]
    }
   ],
   "source": [
    "(x_train, y_train), (x_test, y_test) = cifar10.load_data()\n",
    "print('x_train shape:', x_train.shape)\n",
    "print(x_train.shape[0], 'train samples')\n",
    "print(x_test.shape[0], 'test samples')\n",
    "x_train = x_train.astype('float32')\n",
    "x_test = x_test.astype('float32')\n",
    "x_train /= 255\n",
    "x_test /= 255\n",
    "\n",
    "# Convert class vectors to binary class matrices.\n",
    "y_train = keras.utils.to_categorical(y_train, num_classes)\n",
    "y_test = keras.utils.to_categorical(y_test, num_classes)"
   ]
  },
  {
   "cell_type": "code",
   "execution_count": 8,
   "metadata": {},
   "outputs": [
    {
     "name": "stdout",
     "output_type": "stream",
     "text": [
      "Model: \"sequential_1\"\n",
      "_________________________________________________________________\n",
      "Layer (type)                 Output Shape              Param #   \n",
      "=================================================================\n",
      "conv2d (Conv2D)              (None, 32, 32, 32)        896       \n",
      "_________________________________________________________________\n",
      "activation (Activation)      (None, 32, 32, 32)        0         \n",
      "_________________________________________________________________\n",
      "conv2d_1 (Conv2D)            (None, 30, 30, 32)        9248      \n",
      "_________________________________________________________________\n",
      "activation_1 (Activation)    (None, 30, 30, 32)        0         \n",
      "_________________________________________________________________\n",
      "max_pooling2d (MaxPooling2D) (None, 15, 15, 32)        0         \n",
      "_________________________________________________________________\n",
      "dropout_2 (Dropout)          (None, 15, 15, 32)        0         \n",
      "_________________________________________________________________\n",
      "conv2d_2 (Conv2D)            (None, 15, 15, 64)        18496     \n",
      "_________________________________________________________________\n",
      "activation_2 (Activation)    (None, 15, 15, 64)        0         \n",
      "_________________________________________________________________\n",
      "conv2d_3 (Conv2D)            (None, 13, 13, 64)        36928     \n",
      "_________________________________________________________________\n",
      "activation_3 (Activation)    (None, 13, 13, 64)        0         \n",
      "_________________________________________________________________\n",
      "max_pooling2d_1 (MaxPooling2 (None, 6, 6, 64)          0         \n",
      "_________________________________________________________________\n",
      "dropout_3 (Dropout)          (None, 6, 6, 64)          0         \n",
      "_________________________________________________________________\n",
      "flatten (Flatten)            (None, 2304)              0         \n",
      "_________________________________________________________________\n",
      "dense_3 (Dense)              (None, 512)               1180160   \n",
      "_________________________________________________________________\n",
      "activation_4 (Activation)    (None, 512)               0         \n",
      "_________________________________________________________________\n",
      "dropout_4 (Dropout)          (None, 512)               0         \n",
      "_________________________________________________________________\n",
      "dense_4 (Dense)              (None, 10)                5130      \n",
      "_________________________________________________________________\n",
      "activation_5 (Activation)    (None, 10)                0         \n",
      "=================================================================\n",
      "Total params: 1,250,858\n",
      "Trainable params: 1,250,858\n",
      "Non-trainable params: 0\n",
      "_________________________________________________________________\n",
      "Epoch 1/10\n",
      "391/391 [==============================] - 67s 171ms/step - loss: 1.7515 - accuracy: 0.3693 - val_loss: 1.3499 - val_accuracy: 0.5205\n",
      "Epoch 2/10\n",
      "391/391 [==============================] - 66s 169ms/step - loss: 1.3051 - accuracy: 0.5383 - val_loss: 1.0974 - val_accuracy: 0.6095\n",
      "Epoch 3/10\n",
      "391/391 [==============================] - 72s 184ms/step - loss: 1.1014 - accuracy: 0.6137 - val_loss: 0.9318 - val_accuracy: 0.6738\n",
      "Epoch 4/10\n",
      "391/391 [==============================] - 73s 188ms/step - loss: 0.9733 - accuracy: 0.6610 - val_loss: 0.8962 - val_accuracy: 0.6788\n",
      "Epoch 5/10\n",
      "391/391 [==============================] - 72s 183ms/step - loss: 0.8825 - accuracy: 0.6924 - val_loss: 0.8866 - val_accuracy: 0.6964\n",
      "Epoch 6/10\n",
      "391/391 [==============================] - 69s 177ms/step - loss: 0.8142 - accuracy: 0.7186 - val_loss: 0.8064 - val_accuracy: 0.7212\n",
      "Epoch 7/10\n",
      "391/391 [==============================] - 70s 179ms/step - loss: 0.7590 - accuracy: 0.7375 - val_loss: 0.7660 - val_accuracy: 0.7373\n",
      "Epoch 8/10\n",
      "391/391 [==============================] - 69s 176ms/step - loss: 0.7153 - accuracy: 0.7538 - val_loss: 0.7828 - val_accuracy: 0.7364\n",
      "Epoch 9/10\n",
      "391/391 [==============================] - 67s 171ms/step - loss: 0.6872 - accuracy: 0.7647 - val_loss: 0.7421 - val_accuracy: 0.7526\n",
      "Epoch 10/10\n",
      "391/391 [==============================] - 71s 183ms/step - loss: 0.6582 - accuracy: 0.7721 - val_loss: 0.7513 - val_accuracy: 0.7613\n",
      "Test loss: 0.7512603998184204\n",
      "Test accuracy: 0.7613000273704529\n"
     ]
    }
   ],
   "source": [
    "model = Sequential()\n",
    "model.add(Conv2D(32, (3, 3), padding='same',\n",
    "                 input_shape=x_train.shape[1:]))\n",
    "model.add(Activation('relu'))\n",
    "model.add(Conv2D(32, (3, 3)))\n",
    "model.add(Activation('relu'))\n",
    "model.add(MaxPooling2D(pool_size=(2, 2)))\n",
    "model.add(Dropout(0.25))\n",
    "\n",
    "model.add(Conv2D(64, (3, 3), padding='same'))\n",
    "model.add(Activation('relu'))\n",
    "model.add(Conv2D(64, (3, 3)))\n",
    "model.add(Activation('relu'))\n",
    "model.add(MaxPooling2D(pool_size=(2, 2)))\n",
    "model.add(Dropout(0.25))\n",
    "\n",
    "model.add(Flatten())\n",
    "model.add(Dense(512))\n",
    "model.add(Activation('relu'))\n",
    "model.add(Dropout(0.5))\n",
    "model.add(Dense(num_classes))\n",
    "model.add(Activation('softmax'))\n",
    "model.summary()\n",
    "\n",
    "model.compile(loss='categorical_crossentropy',\n",
    "              optimizer=RMSprop(),\n",
    "              metrics=['accuracy'])\n",
    "\n",
    "history = model.fit(x_train, y_train,\n",
    "                    batch_size=batch_size,\n",
    "                    epochs=epochs,\n",
    "                    verbose=1,\n",
    "                    validation_data=(x_test, y_test))\n",
    "score = model.evaluate(x_test, y_test, verbose=0)\n",
    "print('Test loss:', score[0])\n",
    "print('Test accuracy:', score[1])"
   ]
  },
  {
   "cell_type": "markdown",
   "metadata": {},
   "source": [
    "## 同樣運算 10 個 epochs，但 CNN 在 test data 的準確率顯著優於 DNN!"
   ]
  },
  {
   "cell_type": "markdown",
   "metadata": {},
   "source": [
    "## 作業\n",
    "1. 請試著調整各個超參數，並說明那些超參數對於結果有明顯的影響?\n",
    "2. CNN 與 DNN 哪個模型的參數數量比較多? 造成參數的數量不同的原因在哪?"
   ]
  },
  {
   "cell_type": "code",
   "execution_count": null,
   "metadata": {},
   "outputs": [],
   "source": [
    "# 2. DNN 的參數較多，因為資料只有一維並且又採全連接的方式"
   ]
  }
 ],
 "metadata": {
  "kernelspec": {
   "display_name": "Python 3",
   "language": "python",
   "name": "python3"
  },
  "language_info": {
   "codemirror_mode": {
    "name": "ipython",
    "version": 3
   },
   "file_extension": ".py",
   "mimetype": "text/x-python",
   "name": "python",
   "nbconvert_exporter": "python",
   "pygments_lexer": "ipython3",
   "version": "3.8.3"
  }
 },
 "nbformat": 4,
 "nbformat_minor": 2
}
