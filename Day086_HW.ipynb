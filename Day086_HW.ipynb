{
 "cells": [
  {
   "cell_type": "markdown",
   "metadata": {},
   "source": [
    "## Work\n",
    "1. 試比較 save_best_only 與否的差異\n",
    "2. 請僅存入將 save_weights_only 設定為 True, 並嘗試 reset ipynb 並將模型與權重重新建回並預測 x_test"
   ]
  },
  {
   "cell_type": "code",
   "execution_count": 12,
   "metadata": {},
   "outputs": [],
   "source": [
    "import os\n",
    "import keras\n",
    "\n",
    "# Disable GPU\n",
    "os.environ[\"CUDA_VISIBLE_DEVICES\"] = \"\""
   ]
  },
  {
   "cell_type": "code",
   "execution_count": 13,
   "metadata": {},
   "outputs": [],
   "source": [
    "train, test = keras.datasets.cifar10.load_data()"
   ]
  },
  {
   "cell_type": "code",
   "execution_count": 14,
   "metadata": {},
   "outputs": [],
   "source": [
    "## 資料前處理\n",
    "def preproc_x(x, flatten=True):\n",
    "    x = x / 255.\n",
    "    if flatten:\n",
    "        x = x.reshape((len(x), -1))\n",
    "    return x\n",
    "\n",
    "def preproc_y(y, num_classes=10):\n",
    "    if y.shape[-1] == 1:\n",
    "        y = keras.utils.to_categorical(y, num_classes)\n",
    "    return y    "
   ]
  },
  {
   "cell_type": "code",
   "execution_count": 15,
   "metadata": {},
   "outputs": [],
   "source": [
    "x_train, y_train = train\n",
    "x_test, y_test = test\n",
    "\n",
    "# Preproc the inputs\n",
    "x_train = preproc_x(x_train)\n",
    "x_test = preproc_x(x_test)\n",
    "\n",
    "# Preprc the outputs\n",
    "y_train = preproc_y(y_train)\n",
    "y_test = preproc_y(y_test)"
   ]
  },
  {
   "cell_type": "code",
   "execution_count": 16,
   "metadata": {},
   "outputs": [],
   "source": [
    "from keras.layers import BatchNormalization\n",
    "\n",
    "\"\"\"\n",
    "建立神經網路，並加入 BN layer\n",
    "\"\"\"\n",
    "def build_mlp(input_shape, output_units=10, num_neurons=[512, 256, 128]):\n",
    "    input_layer = keras.layers.Input(input_shape)\n",
    "    \n",
    "    for i, n_units in enumerate(num_neurons):\n",
    "        if i == 0:\n",
    "            x = keras.layers.Dense(units=n_units, \n",
    "                                   activation=\"relu\", \n",
    "                                   name=\"hidden_layer\"+str(i+1))(input_layer)\n",
    "            x = BatchNormalization()(x)\n",
    "        else:\n",
    "            x = keras.layers.Dense(units=n_units, \n",
    "                                   activation=\"relu\", \n",
    "                                   name=\"hidden_layer\"+str(i+1))(x)\n",
    "            x = BatchNormalization()(x)\n",
    "    \n",
    "    out = keras.layers.Dense(units=output_units, activation=\"softmax\", name=\"output\")(x)\n",
    "    \n",
    "    model = keras.models.Model(inputs=[input_layer], outputs=[out])\n",
    "    return model"
   ]
  },
  {
   "cell_type": "code",
   "execution_count": 17,
   "metadata": {},
   "outputs": [],
   "source": [
    "## 超參數設定\n",
    "LEARNING_RATE = 1e-3\n",
    "EPOCHS = 50\n",
    "BATCH_SIZE = 1024\n",
    "MOMENTUM = 0.95"
   ]
  },
  {
   "cell_type": "code",
   "execution_count": 21,
   "metadata": {},
   "outputs": [
    {
     "name": "stdout",
     "output_type": "stream",
     "text": [
      "Model: \"functional_7\"\n",
      "_________________________________________________________________\n",
      "Layer (type)                 Output Shape              Param #   \n",
      "=================================================================\n",
      "input_4 (InputLayer)         [(None, 3072)]            0         \n",
      "_________________________________________________________________\n",
      "hidden_layer1 (Dense)        (None, 512)               1573376   \n",
      "_________________________________________________________________\n",
      "batch_normalization_9 (Batch (None, 512)               2048      \n",
      "_________________________________________________________________\n",
      "hidden_layer2 (Dense)        (None, 256)               131328    \n",
      "_________________________________________________________________\n",
      "batch_normalization_10 (Batc (None, 256)               1024      \n",
      "_________________________________________________________________\n",
      "hidden_layer3 (Dense)        (None, 128)               32896     \n",
      "_________________________________________________________________\n",
      "batch_normalization_11 (Batc (None, 128)               512       \n",
      "_________________________________________________________________\n",
      "output (Dense)               (None, 10)                1290      \n",
      "=================================================================\n",
      "Total params: 1,742,474\n",
      "Trainable params: 1,740,682\n",
      "Non-trainable params: 1,792\n",
      "_________________________________________________________________\n",
      "Epoch 1/50\n",
      "49/49 [==============================] - 2s 38ms/step - loss: 2.2411 - accuracy: 0.2666 - val_loss: 2.1507 - val_accuracy: 0.1837\n",
      "Epoch 2/50\n",
      "49/49 [==============================] - 2s 32ms/step - loss: 1.7446 - accuracy: 0.3951 - val_loss: 2.0012 - val_accuracy: 0.2490\n",
      "Epoch 3/50\n",
      "49/49 [==============================] - 2s 33ms/step - loss: 1.6183 - accuracy: 0.4347 - val_loss: 1.8560 - val_accuracy: 0.3218\n",
      "Epoch 4/50\n",
      "49/49 [==============================] - 2s 32ms/step - loss: 1.5422 - accuracy: 0.4606 - val_loss: 1.7441 - val_accuracy: 0.3807\n",
      "Epoch 5/50\n",
      "49/49 [==============================] - 2s 32ms/step - loss: 1.4899 - accuracy: 0.4798 - val_loss: 1.6468 - val_accuracy: 0.4218\n",
      "Epoch 6/50\n",
      "49/49 [==============================] - 2s 32ms/step - loss: 1.4427 - accuracy: 0.4952 - val_loss: 1.6007 - val_accuracy: 0.4307\n",
      "Epoch 7/50\n",
      "49/49 [==============================] - 2s 33ms/step - loss: 1.4047 - accuracy: 0.5102 - val_loss: 1.5625 - val_accuracy: 0.4436\n",
      "Epoch 8/50\n",
      "49/49 [==============================] - 2s 33ms/step - loss: 1.3693 - accuracy: 0.5228 - val_loss: 1.5236 - val_accuracy: 0.4613\n",
      "Epoch 9/50\n",
      "49/49 [==============================] - 2s 33ms/step - loss: 1.3362 - accuracy: 0.5361 - val_loss: 1.5072 - val_accuracy: 0.4673\n",
      "Epoch 10/50\n",
      "49/49 [==============================] - 2s 33ms/step - loss: 1.3051 - accuracy: 0.5444 - val_loss: 1.4859 - val_accuracy: 0.4714\n",
      "Epoch 11/50\n",
      "49/49 [==============================] - 2s 33ms/step - loss: 1.2757 - accuracy: 0.5573 - val_loss: 1.4781 - val_accuracy: 0.4734\n",
      "Epoch 12/50\n",
      "49/49 [==============================] - 2s 33ms/step - loss: 1.2490 - accuracy: 0.5664 - val_loss: 1.4778 - val_accuracy: 0.4736\n",
      "Epoch 13/50\n",
      "49/49 [==============================] - 2s 33ms/step - loss: 1.2226 - accuracy: 0.5776 - val_loss: 1.4607 - val_accuracy: 0.4817\n",
      "Epoch 14/50\n",
      "49/49 [==============================] - 2s 33ms/step - loss: 1.1964 - accuracy: 0.5867 - val_loss: 1.4819 - val_accuracy: 0.4717\n",
      "Epoch 15/50\n",
      "49/49 [==============================] - 2s 34ms/step - loss: 1.1710 - accuracy: 0.5972 - val_loss: 1.4557 - val_accuracy: 0.4840\n",
      "Epoch 16/50\n",
      "49/49 [==============================] - 2s 34ms/step - loss: 1.1487 - accuracy: 0.6037 - val_loss: 1.4509 - val_accuracy: 0.4862\n",
      "Epoch 17/50\n",
      "49/49 [==============================] - 2s 34ms/step - loss: 1.1240 - accuracy: 0.6130 - val_loss: 1.4455 - val_accuracy: 0.4861\n",
      "Epoch 18/50\n",
      "49/49 [==============================] - 2s 33ms/step - loss: 1.0998 - accuracy: 0.6229 - val_loss: 1.4532 - val_accuracy: 0.4926\n",
      "Epoch 19/50\n",
      "49/49 [==============================] - 2s 33ms/step - loss: 1.0785 - accuracy: 0.6300 - val_loss: 1.4593 - val_accuracy: 0.4852\n",
      "Epoch 20/50\n",
      "49/49 [==============================] - 2s 33ms/step - loss: 1.0583 - accuracy: 0.6378 - val_loss: 1.4470 - val_accuracy: 0.4918\n",
      "Epoch 21/50\n",
      "49/49 [==============================] - 2s 33ms/step - loss: 1.0349 - accuracy: 0.6457 - val_loss: 1.4487 - val_accuracy: 0.4929\n",
      "Epoch 22/50\n",
      "49/49 [==============================] - 2s 33ms/step - loss: 1.0122 - accuracy: 0.6575 - val_loss: 1.4447 - val_accuracy: 0.4943\n",
      "Epoch 23/50\n",
      "49/49 [==============================] - 2s 33ms/step - loss: 0.9888 - accuracy: 0.6656 - val_loss: 1.4523 - val_accuracy: 0.4875\n",
      "Epoch 24/50\n",
      "49/49 [==============================] - 2s 33ms/step - loss: 0.9697 - accuracy: 0.6730 - val_loss: 1.4497 - val_accuracy: 0.4975\n",
      "Epoch 25/50\n",
      "49/49 [==============================] - 2s 33ms/step - loss: 0.9458 - accuracy: 0.6833 - val_loss: 1.4567 - val_accuracy: 0.4951\n",
      "Epoch 26/50\n",
      "49/49 [==============================] - 2s 33ms/step - loss: 0.9281 - accuracy: 0.6892 - val_loss: 1.4522 - val_accuracy: 0.4954\n",
      "Epoch 27/50\n",
      "49/49 [==============================] - 2s 33ms/step - loss: 0.9059 - accuracy: 0.6997 - val_loss: 1.4635 - val_accuracy: 0.4952\n",
      "Epoch 28/50\n",
      "49/49 [==============================] - 2s 32ms/step - loss: 0.8854 - accuracy: 0.7071 - val_loss: 1.4598 - val_accuracy: 0.4967\n",
      "Epoch 29/50\n",
      "49/49 [==============================] - 2s 33ms/step - loss: 0.8652 - accuracy: 0.7151 - val_loss: 1.4679 - val_accuracy: 0.4996\n",
      "Epoch 30/50\n",
      "49/49 [==============================] - 2s 33ms/step - loss: 0.8446 - accuracy: 0.7233 - val_loss: 1.4727 - val_accuracy: 0.5011\n",
      "Epoch 31/50\n",
      "49/49 [==============================] - 2s 35ms/step - loss: 0.8221 - accuracy: 0.7335 - val_loss: 1.4842 - val_accuracy: 0.4933\n",
      "Epoch 32/50\n",
      "49/49 [==============================] - 2s 41ms/step - loss: 0.8041 - accuracy: 0.7409 - val_loss: 1.4876 - val_accuracy: 0.5021\n",
      "Epoch 33/50\n",
      "49/49 [==============================] - 2s 39ms/step - loss: 0.7831 - accuracy: 0.7473 - val_loss: 1.4810 - val_accuracy: 0.5015\n",
      "Epoch 34/50\n",
      "49/49 [==============================] - 2s 35ms/step - loss: 0.7644 - accuracy: 0.7558 - val_loss: 1.4977 - val_accuracy: 0.4992\n",
      "Epoch 35/50\n",
      "49/49 [==============================] - 2s 33ms/step - loss: 0.7457 - accuracy: 0.7630 - val_loss: 1.5006 - val_accuracy: 0.4993\n",
      "Epoch 36/50\n",
      "49/49 [==============================] - 2s 39ms/step - loss: 0.7260 - accuracy: 0.7712 - val_loss: 1.5151 - val_accuracy: 0.4924\n",
      "Epoch 37/50\n",
      "49/49 [==============================] - 2s 39ms/step - loss: 0.7063 - accuracy: 0.7797 - val_loss: 1.5184 - val_accuracy: 0.4995\n",
      "Epoch 38/50\n",
      "49/49 [==============================] - 2s 41ms/step - loss: 0.6856 - accuracy: 0.7890 - val_loss: 1.5268 - val_accuracy: 0.4988\n",
      "Epoch 39/50\n",
      "49/49 [==============================] - 2s 40ms/step - loss: 0.6675 - accuracy: 0.7952 - val_loss: 1.5292 - val_accuracy: 0.4944\n",
      "Epoch 40/50\n",
      "49/49 [==============================] - 2s 42ms/step - loss: 0.6490 - accuracy: 0.8013 - val_loss: 1.5428 - val_accuracy: 0.4954\n",
      "Epoch 41/50\n",
      "49/49 [==============================] - 2s 40ms/step - loss: 0.6317 - accuracy: 0.8098 - val_loss: 1.5480 - val_accuracy: 0.4987\n",
      "Epoch 42/50\n",
      "49/49 [==============================] - 2s 36ms/step - loss: 0.6126 - accuracy: 0.8166 - val_loss: 1.5658 - val_accuracy: 0.4936\n",
      "Epoch 43/50\n",
      "49/49 [==============================] - 2s 34ms/step - loss: 0.5929 - accuracy: 0.8254 - val_loss: 1.5812 - val_accuracy: 0.4861\n",
      "Epoch 44/50\n",
      "49/49 [==============================] - 2s 34ms/step - loss: 0.5755 - accuracy: 0.8300 - val_loss: 1.5781 - val_accuracy: 0.4933\n",
      "Epoch 45/50\n",
      "49/49 [==============================] - 2s 34ms/step - loss: 0.5589 - accuracy: 0.8377 - val_loss: 1.5897 - val_accuracy: 0.4946\n",
      "Epoch 46/50\n",
      "49/49 [==============================] - 2s 34ms/step - loss: 0.5406 - accuracy: 0.8446 - val_loss: 1.6187 - val_accuracy: 0.4935\n",
      "Epoch 47/50\n",
      "49/49 [==============================] - 2s 34ms/step - loss: 0.5249 - accuracy: 0.8515 - val_loss: 1.6147 - val_accuracy: 0.4924\n",
      "Epoch 48/50\n",
      "49/49 [==============================] - 2s 34ms/step - loss: 0.5086 - accuracy: 0.8564 - val_loss: 1.6411 - val_accuracy: 0.4907\n"
     ]
    },
    {
     "name": "stdout",
     "output_type": "stream",
     "text": [
      "Epoch 49/50\n",
      "49/49 [==============================] - 2s 35ms/step - loss: 0.4926 - accuracy: 0.8634 - val_loss: 1.6481 - val_accuracy: 0.4929\n",
      "Epoch 50/50\n",
      "49/49 [==============================] - 2s 34ms/step - loss: 0.4751 - accuracy: 0.8689 - val_loss: 1.6651 - val_accuracy: 0.4893\n"
     ]
    }
   ],
   "source": [
    "# 載入 Callbacks\n",
    "\"\"\"Code Here\n",
    "設定 callbacks: model checkpoint\n",
    "\"\"\"\n",
    "\"\"\"\n",
    "# 載入 Callbacks, 並將監控目標設為 validation loss, 且只存最佳參數時的模型\n",
    "\"\"\"\n",
    "from keras.callbacks import ModelCheckpoint\n",
    "\n",
    "model_ckpt = ModelCheckpoint(filepath=\"./tmp.h5\", \n",
    "                             monitor=\"val_loss\", \n",
    "                             save_best_only=True)\n",
    "# 訓練模型\n",
    "model = build_mlp(input_shape=x_train.shape[1:])\n",
    "model.summary()\n",
    "optimizer = keras.optimizers.SGD(lr=LEARNING_RATE, nesterov=True, momentum=MOMENTUM)\n",
    "model.compile(loss=\"categorical_crossentropy\", metrics=[\"accuracy\"], optimizer=optimizer)\n",
    "\n",
    "model.fit(x_train, y_train, \n",
    "          epochs=EPOCHS, \n",
    "          batch_size=BATCH_SIZE, \n",
    "          validation_data=(x_test, y_test), \n",
    "          shuffle=True,\n",
    "          callbacks=[model_ckpt]\n",
    "         )\n",
    "model.save(\"final_model.h5\")\n",
    "model.save_weights(\"model_weights.h5\")\n",
    "# Collect results\n",
    "train_loss = model.history.history[\"loss\"]\n",
    "valid_loss = model.history.history[\"val_loss\"]\n",
    "train_acc = model.history.history[\"accuracy\"]\n",
    "valid_acc = model.history.history[\"val_accuracy\"]\n",
    "\n",
    "pred_final = model.predict(x_test) # 預測\n",
    "# Load back\n",
    "model = keras.models.load_model(\"./tmp.h5\")\n",
    "pred_loadback = model.predict(x_test)"
   ]
  },
  {
   "cell_type": "code",
   "execution_count": 22,
   "metadata": {},
   "outputs": [
    {
     "name": "stdout",
     "output_type": "stream",
     "text": [
      "Accuracy of final weights: 0.489\n",
      "Accuracy of best weights: 0.494\n"
     ]
    }
   ],
   "source": [
    "from sklearn.metrics import accuracy_score\n",
    "\n",
    "final_model_acc = accuracy_score(y_true=y_test.argmax(axis=-1), y_pred=pred_final.argmax(axis=-1))\n",
    "loadback_acc = accuracy_score(y_true=y_test.argmax(axis=-1), y_pred=pred_loadback.argmax(axis=-1))\n",
    "\n",
    "print(\"Accuracy of final weights: %.3f\" % final_model_acc)\n",
    "print(\"Accuracy of best weights: %.3f\" % loadback_acc)"
   ]
  },
  {
   "cell_type": "code",
   "execution_count": 23,
   "metadata": {
    "scrolled": true
   },
   "outputs": [
    {
     "data": {
      "image/png": "[encoded data removed]",
      "text/plain": [
       "<Figure size 432x288 with 1 Axes>"
      ]
     },
     "metadata": {
      "needs_background": "light"
     },
     "output_type": "display_data"
    },
    {
     "data": {
      "image/png": "[encoded data removed]",
      "text/plain": [
       "<Figure size 432x288 with 1 Axes>"
      ]
     },
     "metadata": {
      "needs_background": "light"
     },
     "output_type": "display_data"
    }
   ],
   "source": [
    "import matplotlib.pyplot as plt\n",
    "%matplotlib inline\n",
    "\n",
    "plt.plot(range(len(train_loss)), train_loss, label=\"train loss\")\n",
    "plt.plot(range(len(valid_loss)), valid_loss, label=\"valid loss\")\n",
    "plt.hlines(y=loss_loadback, xmin=0, xmax=len(train_loss), colors='r', linestyles='--') # 畫出最低損失的水平線\n",
    "plt.legend()\n",
    "plt.title(\"Loss\")\n",
    "plt.show()\n",
    "\n",
    "plt.plot(range(len(train_acc)), train_acc, label=\"train accuracy\")\n",
    "plt.plot(range(len(valid_acc)), valid_acc, label=\"valid accuracy\")\n",
    "plt.hlines(y=acc_loadback, xmin=0, xmax=len(train_loss), colors='r', linestyles='--')  # 畫出最高準確率的水平線\n",
    "plt.legend()\n",
    "plt.title(\"Accuracy\")\n",
    "plt.show()"
   ]
  },
  {
   "cell_type": "code",
   "execution_count": 24,
   "metadata": {},
   "outputs": [
    {
     "name": "stdout",
     "output_type": "stream",
     "text": [
      "Model: \"functional_9\"\n",
      "_________________________________________________________________\n",
      "Layer (type)                 Output Shape              Param #   \n",
      "=================================================================\n",
      "input_5 (InputLayer)         [(None, 3072)]            0         \n",
      "_________________________________________________________________\n",
      "hidden_layer1 (Dense)        (None, 512)               1573376   \n",
      "_________________________________________________________________\n",
      "batch_normalization_12 (Batc (None, 512)               2048      \n",
      "_________________________________________________________________\n",
      "hidden_layer2 (Dense)        (None, 256)               131328    \n",
      "_________________________________________________________________\n",
      "batch_normalization_13 (Batc (None, 256)               1024      \n",
      "_________________________________________________________________\n",
      "hidden_layer3 (Dense)        (None, 128)               32896     \n",
      "_________________________________________________________________\n",
      "batch_normalization_14 (Batc (None, 128)               512       \n",
      "_________________________________________________________________\n",
      "output (Dense)               (None, 10)                1290      \n",
      "=================================================================\n",
      "Total params: 1,742,474\n",
      "Trainable params: 1,740,682\n",
      "Non-trainable params: 1,792\n",
      "_________________________________________________________________\n",
      "Epoch 1/50\n",
      "49/49 [==============================] - 2s 39ms/step - loss: 2.1979 - accuracy: 0.2775 - val_loss: 2.1638 - val_accuracy: 0.2123\n",
      "Epoch 2/50\n",
      "49/49 [==============================] - 2s 35ms/step - loss: 1.7362 - accuracy: 0.3975 - val_loss: 1.9822 - val_accuracy: 0.3087\n",
      "Epoch 3/50\n",
      "49/49 [==============================] - 2s 35ms/step - loss: 1.6150 - accuracy: 0.4378 - val_loss: 1.8381 - val_accuracy: 0.3677\n",
      "Epoch 4/50\n",
      "49/49 [==============================] - 2s 34ms/step - loss: 1.5419 - accuracy: 0.4609 - val_loss: 1.7176 - val_accuracy: 0.4079\n",
      "Epoch 5/50\n",
      "49/49 [==============================] - 2s 35ms/step - loss: 1.4886 - accuracy: 0.4807 - val_loss: 1.6434 - val_accuracy: 0.4287\n",
      "Epoch 6/50\n",
      "49/49 [==============================] - 2s 34ms/step - loss: 1.4445 - accuracy: 0.4957 - val_loss: 1.6006 - val_accuracy: 0.4346\n",
      "Epoch 7/50\n",
      "49/49 [==============================] - 2s 35ms/step - loss: 1.4042 - accuracy: 0.5097 - val_loss: 1.5611 - val_accuracy: 0.4473\n",
      "Epoch 8/50\n",
      "49/49 [==============================] - 2s 34ms/step - loss: 1.3699 - accuracy: 0.5234 - val_loss: 1.5296 - val_accuracy: 0.4618\n",
      "Epoch 9/50\n",
      "49/49 [==============================] - 2s 37ms/step - loss: 1.3372 - accuracy: 0.5359 - val_loss: 1.5190 - val_accuracy: 0.4638\n",
      "Epoch 10/50\n",
      "49/49 [==============================] - 2s 35ms/step - loss: 1.3080 - accuracy: 0.5453 - val_loss: 1.5183 - val_accuracy: 0.4638\n",
      "Epoch 11/50\n",
      "49/49 [==============================] - 2s 33ms/step - loss: 1.2787 - accuracy: 0.5575 - val_loss: 1.4871 - val_accuracy: 0.4746\n",
      "Epoch 12/50\n",
      "49/49 [==============================] - 2s 33ms/step - loss: 1.2526 - accuracy: 0.5675 - val_loss: 1.4838 - val_accuracy: 0.4778\n",
      "Epoch 13/50\n",
      "49/49 [==============================] - 2s 33ms/step - loss: 1.2242 - accuracy: 0.5777 - val_loss: 1.4740 - val_accuracy: 0.4824\n",
      "Epoch 14/50\n",
      "49/49 [==============================] - 2s 34ms/step - loss: 1.2005 - accuracy: 0.5859 - val_loss: 1.4746 - val_accuracy: 0.4786\n",
      "Epoch 15/50\n",
      "49/49 [==============================] - 2s 34ms/step - loss: 1.1740 - accuracy: 0.5971 - val_loss: 1.4711 - val_accuracy: 0.4797\n",
      "Epoch 16/50\n",
      "49/49 [==============================] - 2s 34ms/step - loss: 1.1522 - accuracy: 0.6044 - val_loss: 1.4664 - val_accuracy: 0.4885\n",
      "Epoch 17/50\n",
      "49/49 [==============================] - 2s 34ms/step - loss: 1.1292 - accuracy: 0.6105 - val_loss: 1.4747 - val_accuracy: 0.4890\n",
      "Epoch 18/50\n",
      "49/49 [==============================] - 2s 35ms/step - loss: 1.1057 - accuracy: 0.6220 - val_loss: 1.4568 - val_accuracy: 0.4903\n",
      "Epoch 19/50\n",
      "49/49 [==============================] - 2s 34ms/step - loss: 1.0819 - accuracy: 0.6304 - val_loss: 1.4571 - val_accuracy: 0.4926\n",
      "Epoch 20/50\n",
      "49/49 [==============================] - 2s 42ms/step - loss: 1.0618 - accuracy: 0.6388 - val_loss: 1.4638 - val_accuracy: 0.4895\n",
      "Epoch 21/50\n",
      "49/49 [==============================] - 2s 34ms/step - loss: 1.0398 - accuracy: 0.6471 - val_loss: 1.4678 - val_accuracy: 0.4916\n",
      "Epoch 22/50\n",
      "49/49 [==============================] - 2s 35ms/step - loss: 1.0185 - accuracy: 0.6548 - val_loss: 1.4671 - val_accuracy: 0.4903\n",
      "Epoch 23/50\n",
      "49/49 [==============================] - 2s 34ms/step - loss: 0.9960 - accuracy: 0.6635 - val_loss: 1.4664 - val_accuracy: 0.4912\n",
      "Epoch 24/50\n",
      "49/49 [==============================] - 2s 35ms/step - loss: 0.9762 - accuracy: 0.6712 - val_loss: 1.4681 - val_accuracy: 0.4929\n",
      "Epoch 25/50\n",
      "49/49 [==============================] - 2s 34ms/step - loss: 0.9535 - accuracy: 0.6800 - val_loss: 1.4770 - val_accuracy: 0.4943\n",
      "Epoch 26/50\n",
      "49/49 [==============================] - 2s 34ms/step - loss: 0.9353 - accuracy: 0.6866 - val_loss: 1.4819 - val_accuracy: 0.4917\n",
      "Epoch 27/50\n",
      "49/49 [==============================] - 2s 35ms/step - loss: 0.9127 - accuracy: 0.6963 - val_loss: 1.4675 - val_accuracy: 0.4959\n",
      "Epoch 28/50\n",
      "49/49 [==============================] - 2s 34ms/step - loss: 0.8916 - accuracy: 0.7052 - val_loss: 1.4872 - val_accuracy: 0.4941\n",
      "Epoch 29/50\n",
      "49/49 [==============================] - 2s 34ms/step - loss: 0.8690 - accuracy: 0.7135 - val_loss: 1.4933 - val_accuracy: 0.4953\n",
      "Epoch 30/50\n",
      "49/49 [==============================] - 2s 44ms/step - loss: 0.8508 - accuracy: 0.7232 - val_loss: 1.4779 - val_accuracy: 0.5023\n",
      "Epoch 31/50\n",
      "49/49 [==============================] - 2s 42ms/step - loss: 0.8328 - accuracy: 0.7282 - val_loss: 1.4914 - val_accuracy: 0.4980\n",
      "Epoch 32/50\n",
      "49/49 [==============================] - 2s 41ms/step - loss: 0.8125 - accuracy: 0.7371 - val_loss: 1.5131 - val_accuracy: 0.4899\n",
      "Epoch 33/50\n",
      "49/49 [==============================] - 2s 39ms/step - loss: 0.7914 - accuracy: 0.7446 - val_loss: 1.5092 - val_accuracy: 0.4937\n",
      "Epoch 34/50\n",
      "49/49 [==============================] - 2s 34ms/step - loss: 0.7736 - accuracy: 0.7495 - val_loss: 1.5168 - val_accuracy: 0.4966\n",
      "Epoch 35/50\n",
      "49/49 [==============================] - 2s 34ms/step - loss: 0.7540 - accuracy: 0.7586 - val_loss: 1.5243 - val_accuracy: 0.4963\n",
      "Epoch 36/50\n",
      "49/49 [==============================] - 2s 35ms/step - loss: 0.7341 - accuracy: 0.7686 - val_loss: 1.5269 - val_accuracy: 0.5001\n",
      "Epoch 37/50\n",
      "49/49 [==============================] - 2s 34ms/step - loss: 0.7158 - accuracy: 0.7737 - val_loss: 1.5369 - val_accuracy: 0.4939\n",
      "Epoch 38/50\n",
      "49/49 [==============================] - 2s 35ms/step - loss: 0.6972 - accuracy: 0.7817 - val_loss: 1.5468 - val_accuracy: 0.4975\n",
      "Epoch 39/50\n",
      "49/49 [==============================] - 2s 35ms/step - loss: 0.6775 - accuracy: 0.7902 - val_loss: 1.5513 - val_accuracy: 0.4920\n",
      "Epoch 40/50\n",
      "49/49 [==============================] - 2s 35ms/step - loss: 0.6588 - accuracy: 0.7961 - val_loss: 1.5715 - val_accuracy: 0.4950\n",
      "Epoch 41/50\n",
      "49/49 [==============================] - 2s 35ms/step - loss: 0.6399 - accuracy: 0.8046 - val_loss: 1.5735 - val_accuracy: 0.4976\n",
      "Epoch 42/50\n",
      "49/49 [==============================] - 2s 35ms/step - loss: 0.6243 - accuracy: 0.8099 - val_loss: 1.5820 - val_accuracy: 0.4954\n",
      "Epoch 43/50\n",
      "49/49 [==============================] - 2s 36ms/step - loss: 0.6063 - accuracy: 0.8182 - val_loss: 1.6068 - val_accuracy: 0.4923\n",
      "Epoch 44/50\n",
      "49/49 [==============================] - 2s 36ms/step - loss: 0.5875 - accuracy: 0.8247 - val_loss: 1.6186 - val_accuracy: 0.4937\n",
      "Epoch 45/50\n",
      "49/49 [==============================] - 2s 36ms/step - loss: 0.5690 - accuracy: 0.8328 - val_loss: 1.6477 - val_accuracy: 0.4792\n",
      "Epoch 46/50\n",
      "49/49 [==============================] - 2s 36ms/step - loss: 0.5533 - accuracy: 0.8398 - val_loss: 1.6347 - val_accuracy: 0.4938\n",
      "Epoch 47/50\n",
      "49/49 [==============================] - 2s 37ms/step - loss: 0.5356 - accuracy: 0.8445 - val_loss: 1.6553 - val_accuracy: 0.4896\n",
      "Epoch 48/50\n",
      "49/49 [==============================] - 2s 36ms/step - loss: 0.5193 - accuracy: 0.8524 - val_loss: 1.6635 - val_accuracy: 0.4908\n"
     ]
    },
    {
     "name": "stdout",
     "output_type": "stream",
     "text": [
      "Epoch 49/50\n",
      "49/49 [==============================] - 2s 36ms/step - loss: 0.5019 - accuracy: 0.8571 - val_loss: 1.6886 - val_accuracy: 0.4842\n",
      "Epoch 50/50\n",
      "49/49 [==============================] - 2s 35ms/step - loss: 0.4864 - accuracy: 0.8645 - val_loss: 1.7323 - val_accuracy: 0.4747\n"
     ]
    }
   ],
   "source": [
    "# 載入 Callbacks\n",
    "\"\"\"Code Here\n",
    "設定 callbacks: model checkpoint\n",
    "\"\"\"\n",
    "\"\"\"\n",
    "# 載入 Callbacks, 並將監控目標設為 validation loss, 且只存最佳參數時的模型\n",
    "\"\"\"\n",
    "from keras.callbacks import ModelCheckpoint\n",
    "\n",
    "model_ckpt = ModelCheckpoint(filepath=\"./tmp.h5\", \n",
    "                             monitor=\"val_loss\", \n",
    "                             save_best_only=False)\n",
    "# 訓練模型\n",
    "model = build_mlp(input_shape=x_train.shape[1:])\n",
    "model.summary()\n",
    "optimizer = keras.optimizers.SGD(lr=LEARNING_RATE, nesterov=True, momentum=MOMENTUM)\n",
    "model.compile(loss=\"categorical_crossentropy\", metrics=[\"accuracy\"], optimizer=optimizer)\n",
    "\n",
    "model.fit(x_train, y_train, \n",
    "          epochs=EPOCHS, \n",
    "          batch_size=BATCH_SIZE, \n",
    "          validation_data=(x_test, y_test), \n",
    "          shuffle=True,\n",
    "          callbacks=[model_ckpt]\n",
    "         )\n",
    "model.save(\"final_model.h5\")\n",
    "model.save_weights(\"model_weights.h5\")\n",
    "# Collect results\n",
    "train_loss = model.history.history[\"loss\"]\n",
    "valid_loss = model.history.history[\"val_loss\"]\n",
    "train_acc = model.history.history[\"accuracy\"]\n",
    "valid_acc = model.history.history[\"val_accuracy\"]\n",
    "\n",
    "pred_final = model.predict(x_test) # 預測\n",
    "# Load back\n",
    "model = keras.models.load_model(\"./tmp.h5\")\n",
    "pred_loadback = model.predict(x_test)"
   ]
  },
  {
   "cell_type": "code",
   "execution_count": 25,
   "metadata": {},
   "outputs": [
    {
     "name": "stdout",
     "output_type": "stream",
     "text": [
      "Accuracy of final weights: 0.475\n",
      "Accuracy of best weights: 0.475\n"
     ]
    }
   ],
   "source": [
    "from sklearn.metrics import accuracy_score\n",
    "\n",
    "final_model_acc = accuracy_score(y_true=y_test.argmax(axis=-1), y_pred=pred_final.argmax(axis=-1))\n",
    "loadback_acc = accuracy_score(y_true=y_test.argmax(axis=-1), y_pred=pred_loadback.argmax(axis=-1))\n",
    "\n",
    "print(\"Accuracy of final weights: %.3f\" % final_model_acc)\n",
    "print(\"Accuracy of best weights: %.3f\" % loadback_acc)"
   ]
  },
  {
   "cell_type": "code",
   "execution_count": 26,
   "metadata": {},
   "outputs": [
    {
     "data": {
      "image/png": "[encoded data removed]",
      "text/plain": [
       "<Figure size 432x288 with 1 Axes>"
      ]
     },
     "metadata": {
      "needs_background": "light"
     },
     "output_type": "display_data"
    },
    {
     "data": {
      "image/png": "[encoded data removed]",
      "text/plain": [
       "<Figure size 432x288 with 1 Axes>"
      ]
     },
     "metadata": {
      "needs_background": "light"
     },
     "output_type": "display_data"
    }
   ],
   "source": [
    "import matplotlib.pyplot as plt\n",
    "%matplotlib inline\n",
    "\n",
    "plt.plot(range(len(train_loss)), train_loss, label=\"train loss\")\n",
    "plt.plot(range(len(valid_loss)), valid_loss, label=\"valid loss\")\n",
    "plt.hlines(y=loss_loadback, xmin=0, xmax=len(train_loss), colors='r', linestyles='--') # 畫出最低損失的水平線\n",
    "plt.legend()\n",
    "plt.title(\"Loss\")\n",
    "plt.show()\n",
    "\n",
    "plt.plot(range(len(train_acc)), train_acc, label=\"train accuracy\")\n",
    "plt.plot(range(len(valid_acc)), valid_acc, label=\"valid accuracy\")\n",
    "plt.hlines(y=acc_loadback, xmin=0, xmax=len(train_loss), colors='r', linestyles='--')  # 畫出最高準確率的水平線\n",
    "plt.legend()\n",
    "plt.title(\"Accuracy\")\n",
    "plt.show()"
   ]
  }
 ],
 "metadata": {
  "kernelspec": {
   "display_name": "Python 3",
   "language": "python",
   "name": "python3"
  },
  "language_info": {
   "codemirror_mode": {
    "name": "ipython",
    "version": 3
   },
   "file_extension": ".py",
   "mimetype": "text/x-python",
   "name": "python",
   "nbconvert_exporter": "python",
   "pygments_lexer": "ipython3",
   "version": "3.8.3"
  }
 },
 "nbformat": 4,
 "nbformat_minor": 2
}
